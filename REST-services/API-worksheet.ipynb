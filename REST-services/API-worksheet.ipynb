{
 "cells": [
  {
   "cell_type": "markdown",
   "metadata": {},
   "source": [
    "## Create an API\n",
    "\n",
    "Create an API with 4 endpoints:\n",
    "* */help* returns with the help/usage of the other 3 endpoints\n",
    "* 1 endpoint, where one needs to use arguments (key/value pairs)\n",
    "* 1 endpoint, which returns some data in json format. Either the json should contain a description of what the data is or it is defined in the /help\n",
    "* 1 endpoint, which returns an image or file (plot, graph etc). It's type should be defined in /help\n",
    "\n",
    "You can use any dataset for this task. Here is a list of some real life data:\n",
    "*        https://catalog.data.gov/dataset/demographic-statistics-by-zip-code-acfc9\n",
    "*       https://catalog.data.gov/dataset/crimes-2001-to-present-398a4\n",
    "*       https://catalog.data.gov/dataset/lottery-mega-millions-winning-numbers-beginning-2002\n"
   ]
  },
  {
   "cell_type": "markdown",
   "metadata": {},
   "source": [
    "## How to run this service\n",
    "\n",
    "* Launch a terminal and enter into the directory, that contains this notebook\n",
    "* then type\n",
    "```\n",
    "preview-nb-api.sh API-worksheet.ipynb \n",
    "```\n",
    "* the first line of output will tell you the URL of the API"
   ]
  },
  {
   "cell_type": "code",
   "execution_count": 1,
   "metadata": {},
   "outputs": [],
   "source": [
    "import json\n",
    "import base64"
   ]
  },
  {
   "cell_type": "code",
   "execution_count": 7,
   "metadata": {},
   "outputs": [],
   "source": [
    "REQUEST = json.dumps({\n",
    " 'args' : {}\n",
    "})"
   ]
  },
  {
   "cell_type": "code",
   "execution_count": 1,
   "metadata": {
    "collapsed": true
   },
   "outputs": [
    {
     "ename": "NameError",
     "evalue": "name 'json' is not defined",
     "output_type": "error",
     "traceback": [
      "\u001b[0;31m---------------------------------------------------------------------------\u001b[0m",
      "\u001b[0;31mNameError\u001b[0m                                 Traceback (most recent call last)",
      "\u001b[0;32m<ipython-input-1-aa61c9cdf9ec>\u001b[0m in \u001b[0;36m<module>\u001b[0;34m\u001b[0m\n\u001b[1;32m      1\u001b[0m \u001b[0;31m# GET /help\u001b[0m\u001b[0;34m\u001b[0m\u001b[0;34m\u001b[0m\u001b[0m\n\u001b[0;32m----> 2\u001b[0;31m \u001b[0mreq\u001b[0m \u001b[0;34m=\u001b[0m \u001b[0mjson\u001b[0m\u001b[0;34m.\u001b[0m\u001b[0mloads\u001b[0m\u001b[0;34m(\u001b[0m\u001b[0mREQUEST\u001b[0m\u001b[0;34m)\u001b[0m\u001b[0;34m\u001b[0m\u001b[0m\n\u001b[0m\u001b[1;32m      3\u001b[0m \u001b[0margs\u001b[0m \u001b[0;34m=\u001b[0m \u001b[0mreq\u001b[0m\u001b[0;34m[\u001b[0m\u001b[0;34m'args'\u001b[0m\u001b[0;34m]\u001b[0m\u001b[0;34m\u001b[0m\u001b[0m\n\u001b[1;32m      4\u001b[0m \u001b[0;34m\u001b[0m\u001b[0m\n\u001b[1;32m      5\u001b[0m \u001b[0msubhelp\u001b[0m \u001b[0;34m=\u001b[0m \u001b[0;34m{\u001b[0m\u001b[0;34m'Message'\u001b[0m\u001b[0;34m:\u001b[0m \u001b[0;34m'This is a test API. This endpoint can digest the \"simple\" and \"data\" arguments'\u001b[0m\u001b[0;34m}\u001b[0m\u001b[0;34m\u001b[0m\u001b[0m\n",
      "\u001b[0;31mNameError\u001b[0m: name 'json' is not defined"
     ]
    }
   ],
   "source": [
    "# GET /help\n",
    "req = json.loads(REQUEST)\n",
    "args = req['args']\n",
    "\n",
    "subhelp = {'Message': 'This is a test API. This endpoint can digest the \"simple\" and \"data\" arguments'}\n",
    "\n",
    "if 'simple' in args:\n",
    "    subhelp = {'Message': 'This is a test API and has a simple argument'}\n",
    "    response = json.dumps(subhelp)\n",
    "elif 'data' in args:\n",
    "    N = int(args['data'][0])\n",
    "    subhelp = [{'Message': 'This is a test API and this endpoint returns data '}, {'data': list(range(N))}]\n",
    "    #subhelp = [{'Message': 'This is a test API and this endpoint returns data '}, {'data': args['data']}]\n",
    "    response = json.dumps(subhelp) \n",
    "else:\n",
    "    response = json.dumps(subhelp)\n",
    "    \n",
    "print(response)"
   ]
  },
  {
   "cell_type": "code",
   "execution_count": 9,
   "metadata": {},
   "outputs": [],
   "source": [
    "# GET /another\n",
    "req = json.loads(REQUEST)\n",
    "args = req['args']"
   ]
  },
  {
   "cell_type": "code",
   "execution_count": null,
   "metadata": {},
   "outputs": [],
   "source": []
  }
 ],
 "metadata": {
  "kernelspec": {
   "display_name": "Python 3",
   "language": "python",
   "name": "python3"
  },
  "language_info": {
   "codemirror_mode": {
    "name": "ipython",
    "version": 3
   },
   "file_extension": ".py",
   "mimetype": "text/x-python",
   "name": "python",
   "nbconvert_exporter": "python",
   "pygments_lexer": "ipython3",
   "version": "3.6.6"
  }
 },
 "nbformat": 4,
 "nbformat_minor": 2
}
