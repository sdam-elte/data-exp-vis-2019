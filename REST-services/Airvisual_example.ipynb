{
 "cells": [
  {
   "cell_type": "code",
   "execution_count": 2,
   "metadata": {
    "ExecuteTime": {
     "end_time": "2019-01-07T11:51:43.652978Z",
     "start_time": "2019-01-07T11:51:43.010929Z"
    }
   },
   "outputs": [],
   "source": [
    "import json, os\n",
    "import requests"
   ]
  },
  {
   "cell_type": "markdown",
   "metadata": {},
   "source": [
    "## Airvisual\n",
    "\n",
    "*The most trusted historical, real-time and forecast air quality data for cities around the world*\n",
    "<br>https://www.airvisual.com/air-pollution-data-api\n",
    "\n",
    "\n",
    "(In order to access this service you need to create an account at  https://www.airvisual.com/api, but for now you can use the credentials below)<br>\n",
    "Api documentation: <br>\n",
    "https://documenter.getpostman.com/view/507654/airvisual-api/2Fvvgg"
   ]
  },
  {
   "cell_type": "code",
   "execution_count": 5,
   "metadata": {
    "ExecuteTime": {
     "end_time": "2019-01-07T11:51:44.761589Z",
     "start_time": "2019-01-07T11:51:44.755967Z"
    }
   },
   "outputs": [],
   "source": [
    "# The URL to server we are going to communicate with\n",
    "apiurl=\"http://api.airvisual.com/v2/\"\n",
    "\n",
    "# You will need a key and a secret\n",
    "# I put it in a file in json format\n",
    "credentials = json.load(open('keys.json', 'r'))['airvisual']\n",
    "\n",
    "# Application key, that every registered user receives. This is a basic security tool\n",
    "api_key = credentials['key']"
   ]
  },
  {
   "cell_type": "markdown",
   "metadata": {},
   "source": [
    "#### Here we will make request \n",
    "\n",
    "For that we need to construct the full url to access a particular endpoint (or function)"
   ]
  },
  {
   "cell_type": "code",
   "execution_count": 6,
   "metadata": {
    "ExecuteTime": {
     "end_time": "2019-01-07T11:51:46.011776Z",
     "start_time": "2019-01-07T11:51:45.363981Z"
    }
   },
   "outputs": [],
   "source": [
    "# There paths belonging to each function or feature for each hosted service \n",
    "# This will give us a list of countries for they have any related data \n",
    "api_path=\"countries\"\n",
    "\n",
    "# full path\n",
    "requested_url = os.path.join(apiurl, api_path)+\"?key=%s\"%api_key\n",
    "\n",
    "# We send our request and it returns with a response\n",
    "response = requests.get(requested_url)"
   ]
  },
  {
   "cell_type": "markdown",
   "metadata": {},
   "source": [
    "#### Explore the response"
   ]
  },
  {
   "cell_type": "code",
   "execution_count": 7,
   "metadata": {},
   "outputs": [
    {
     "data": {
      "text/plain": [
       "200"
      ]
     },
     "execution_count": 7,
     "metadata": {},
     "output_type": "execute_result"
    }
   ],
   "source": [
    "response.status_code"
   ]
  },
  {
   "cell_type": "code",
   "execution_count": 8,
   "metadata": {},
   "outputs": [
    {
     "data": {
      "text/plain": [
       "{'Date': 'Fri, 22 Mar 2019 08:02:48 GMT', 'Content-Type': 'application/json', 'Transfer-Encoding': 'chunked', 'Connection': 'keep-alive', 'Cache-Control': 'no-store', 'Pragma': 'no-cache', 'access-control-allow-origin': '*', 'access-control-allow-headers': 'Origin, X-Requested-With, Content-Type, Accept', 'Vary': 'Accept-Encoding', 'Content-Encoding': 'gzip'}"
      ]
     },
     "execution_count": 8,
     "metadata": {},
     "output_type": "execute_result"
    }
   ],
   "source": [
    "response.headers"
   ]
  },
  {
   "cell_type": "code",
   "execution_count": 12,
   "metadata": {},
   "outputs": [
    {
     "data": {
      "text/plain": [
       "b'{\"status\":\"success\",\"data\":[{\"country\":\"Afghanistan\"},{\"country\":\"Andorra\"},{\"country\":\"Angola\"},{\"country\":\"Argentina\"},{\"country\":\"Armenia\"},{\"country\":\"Australia\"},{\"country\":\"Austria\"},{\"country\":\"Bahamas\"},{\"country\":\"Bahrain\"},{\"country\":\"Bangladesh\"},{\"country\":\"Belgium\"},{\"country\":\"Bonaire, Saint Eustatius and Saba\"},{\"country\":\"Bosnia Herzegovina\"},{\"country\":\"Brazil\"},{\"country\":\"Brunei\"},{\"country\":\"Bulgaria\"},{\"country\":\"Canada\"},{\"country\":\"Chile\"},{\"country\":\"China\"},{\"country\":\"Colombia\"},{\"country\":\"Costa Rica\"},{\"country\":\"Croatia\"},{\"country\":\"Curacao\"},{\"country\":\"Cyprus\"},{\"country\":\"Czech Republic\"},{\"country\":\"Democratic Republic of the Congo\"},{\"country\":\"Denmark\"},{\"country\":\"Ecuador\"},{\"country\":\"Ethiopia\"},{\"country\":\"Finland\"},{\"country\":\"France\"},{\"country\":\"Germany\"},{\"country\":\"Ghana\"},{\"country\":\"Guatemala\"},{\"country\":\"Hong Kong\"},{\"country\":\"Hungary\"},{\"country\":\"India\"},{\"country\":\"Indonesia\"},{\"country\":\"Iran\"},{\"country\":\"Ireland\"},{\"country\":\"Israel\"},{\"country\":\"Italy\"},{\"country\":\"Ivory Coast\"},{\"country\":\"Jamaica\"},{\"country\":\"Japan\"},{\"country\":\"Kazakhstan\"},{\"country\":\"Kosovo\"},{\"country\":\"Kuwait\"},{\"country\":\"Kyrgyzstan\"},{\"country\":\"Latvia\"},{\"country\":\"Lithuania\"},{\"country\":\"Luxembourg\"},{\"country\":\"Macao\"},{\"country\":\"Macedonia\"},{\"country\":\"Malaysia\"},{\"country\":\"Malta\"},{\"country\":\"Mexico\"},{\"country\":\"Mongolia\"},{\"country\":\"Myanmar\"},{\"country\":\"Nepal\"},{\"country\":\"Netherlands\"},{\"country\":\"New Zealand\"},{\"country\":\"Nigeria\"},{\"country\":\"Norway\"},{\"country\":\"Pakistan\"},{\"country\":\"Peru\"},{\"country\":\"Philippines\"},{\"country\":\"Poland\"},{\"country\":\"Portugal\"},{\"country\":\"Puerto Rico\"},{\"country\":\"Romania\"},{\"country\":\"Russia\"},{\"country\":\"San Marino\"},{\"country\":\"Serbia\"},{\"country\":\"Singapore\"},{\"country\":\"Slovakia\"},{\"country\":\"Slovenia\"},{\"country\":\"South Africa\"},{\"country\":\"South Korea\"},{\"country\":\"Spain\"},{\"country\":\"Sri Lanka\"},{\"country\":\"Sweden\"},{\"country\":\"Switzerland\"},{\"country\":\"Syria\"},{\"country\":\"Taiwan\"},{\"country\":\"Thailand\"},{\"country\":\"Timor Leste\"},{\"country\":\"Turkey\"},{\"country\":\"U.S. Virgin Islands\"},{\"country\":\"USA\"},{\"country\":\"Uganda\"},{\"country\":\"Ukraine\"},{\"country\":\"United Arab Emirates\"},{\"country\":\"United Kingdom\"},{\"country\":\"Uzbekistan\"},{\"country\":\"Vietnam\"}]}'"
      ]
     },
     "execution_count": 12,
     "metadata": {},
     "output_type": "execute_result"
    }
   ],
   "source": [
    "response.content"
   ]
  },
  {
   "cell_type": "code",
   "execution_count": 7,
   "metadata": {
    "ExecuteTime": {
     "end_time": "2019-01-07T11:51:46.011776Z",
     "start_time": "2019-01-07T11:51:45.363981Z"
    }
   },
   "outputs": [],
   "source": [
    "# jsonified response for easier digestion\n",
    "res_json = response.json()"
   ]
  },
  {
   "cell_type": "code",
   "execution_count": 6,
   "metadata": {},
   "outputs": [
    {
     "data": {
      "text/plain": [
       "dict_keys(['status', 'data'])"
      ]
     },
     "execution_count": 6,
     "metadata": {},
     "output_type": "execute_result"
    }
   ],
   "source": [
    "res_json.keys()"
   ]
  },
  {
   "cell_type": "markdown",
   "metadata": {},
   "source": [
    "#### So we have got a *status* and a *data*, which comes in the body of the response"
   ]
  },
  {
   "cell_type": "code",
   "execution_count": 16,
   "metadata": {
    "ExecuteTime": {
     "end_time": "2019-01-07T11:51:50.369591Z",
     "start_time": "2019-01-07T11:51:50.362957Z"
    }
   },
   "outputs": [
    {
     "name": "stdout",
     "output_type": "stream",
     "text": [
      "Yeaayyy, they have Hungary in the list\n"
     ]
    }
   ],
   "source": [
    "if res_json['status'] == 'success':\n",
    "    for it in res_json['data']:\n",
    "        if \"hungary\" == it['country'].lower():\n",
    "            print(\"Yeaayyy, they have Hungary in the list\")\n"
   ]
  },
  {
   "cell_type": "markdown",
   "metadata": {},
   "source": [
    "#### As a next task request data for the nearest city to us and its pollution data"
   ]
  },
  {
   "cell_type": "code",
   "execution_count": 20,
   "metadata": {
    "ExecuteTime": {
     "end_time": "2019-01-07T11:52:21.773434Z",
     "start_time": "2019-01-07T11:52:21.749485Z"
    }
   },
   "outputs": [
    {
     "data": {
      "text/plain": [
       "'http://api.airvisual.com/v2/countries?key=QyMxEHnoTpBp5Jmke'"
      ]
     },
     "execution_count": 20,
     "metadata": {},
     "output_type": "execute_result"
    }
   ],
   "source": [
    "os.path.join(apiurl, api_path)+\"?key=%s\"%api_key"
   ]
  },
  {
   "cell_type": "code",
   "execution_count": 21,
   "metadata": {
    "ExecuteTime": {
     "end_time": "2019-01-07T11:51:53.192608Z",
     "start_time": "2019-01-07T11:51:52.504887Z"
    }
   },
   "outputs": [],
   "source": [
    "api_path=\"nearest_city\"\n",
    "res = requests.get(os.path.join(apiurl, api_path)+\"?key=%s\"%api_key).json()"
   ]
  },
  {
   "cell_type": "code",
   "execution_count": 23,
   "metadata": {
    "ExecuteTime": {
     "end_time": "2019-01-07T11:51:53.205448Z",
     "start_time": "2019-01-07T11:51:53.195849Z"
    }
   },
   "outputs": [
    {
     "data": {
      "text/plain": [
       "'success'"
      ]
     },
     "execution_count": 23,
     "metadata": {},
     "output_type": "execute_result"
    }
   ],
   "source": [
    "res['status']"
   ]
  },
  {
   "cell_type": "code",
   "execution_count": 30,
   "metadata": {},
   "outputs": [
    {
     "data": {
      "text/plain": [
       "{'city': 'Budapest',\n",
       " 'state': 'Central Hungary',\n",
       " 'country': 'Hungary',\n",
       " 'location': {'type': 'Point', 'coordinates': [19.0527, 47.4985]},\n",
       " 'current': {'weather': {'ts': '2019-03-20T13:00:00.000Z',\n",
       "   'hu': 40,\n",
       "   'ic': '01d',\n",
       "   'pr': 1031,\n",
       "   'tp': 11,\n",
       "   'wd': 320,\n",
       "   'ws': 3.1},\n",
       "  'pollution': {'ts': '2019-03-20T12:00:00.000Z',\n",
       "   'aqius': 41,\n",
       "   'mainus': 'p2',\n",
       "   'aqicn': 18,\n",
       "   'maincn': 'n2'}}}"
      ]
     },
     "execution_count": 30,
     "metadata": {},
     "output_type": "execute_result"
    }
   ],
   "source": [
    "res['data']"
   ]
  },
  {
   "cell_type": "code",
   "execution_count": 38,
   "metadata": {},
   "outputs": [
    {
     "name": "stdout",
     "output_type": "stream",
     "text": [
      "The nearest city is Budapest.\n",
      "The temperature: 11 C\n",
      "Air pressure: 1031 hPa\n",
      "Humidity: 40 %\n"
     ]
    }
   ],
   "source": [
    "print(\"The nearest city is {city}.\".format(**res['data']))\n",
    "print(\"The temperature: {tp} C\\nAir pressure: {pr} hPa\\nHumidity: {hu} %\".format(**res['data']['current']['weather']))"
   ]
  },
  {
   "cell_type": "code",
   "execution_count": null,
   "metadata": {},
   "outputs": [],
   "source": []
  }
 ],
 "metadata": {
  "kernelspec": {
   "display_name": "Python 3",
   "language": "python",
   "name": "python3"
  },
  "language_info": {
   "codemirror_mode": {
    "name": "ipython",
    "version": 3
   },
   "file_extension": ".py",
   "mimetype": "text/x-python",
   "name": "python",
   "nbconvert_exporter": "python",
   "pygments_lexer": "ipython3",
   "version": "3.6.6"
  },
  "latex_envs": {
   "LaTeX_envs_menu_present": true,
   "autoclose": false,
   "autocomplete": true,
   "bibliofile": "biblio.bib",
   "cite_by": "apalike",
   "current_citInitial": 1,
   "eqLabelWithNumbers": false,
   "eqNumInitial": 1,
   "hotkeys": {
    "equation": "Ctrl-E",
    "itemize": "Ctrl-I"
   },
   "labels_anchors": false,
   "latex_user_defs": false,
   "report_style_numbering": false,
   "user_envs_cfg": false
  },
  "varInspector": {
   "cols": {
    "lenName": 16,
    "lenType": 16,
    "lenVar": 40
   },
   "kernels_config": {
    "python": {
     "delete_cmd_postfix": "",
     "delete_cmd_prefix": "del ",
     "library": "var_list.py",
     "varRefreshCmd": "print(var_dic_list())"
    },
    "r": {
     "delete_cmd_postfix": ") ",
     "delete_cmd_prefix": "rm(",
     "library": "var_list.r",
     "varRefreshCmd": "cat(var_dic_list()) "
    }
   },
   "types_to_exclude": [
    "module",
    "function",
    "builtin_function_or_method",
    "instance",
    "_Feature"
   ],
   "window_display": false
  }
 },
 "nbformat": 4,
 "nbformat_minor": 2
}
