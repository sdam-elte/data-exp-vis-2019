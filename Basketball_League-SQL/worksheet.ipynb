{
 "cells": [
  {
   "cell_type": "markdown",
   "metadata": {},
   "source": [
    "# Querying SQL databases\n",
    "\n",
    "Your task is to analyze game and player statistics from the NBA 2008-2009 season provided as a relational database of play-by-play data.\n",
    "\n",
    "You cannot use jupyter to execute the queries. To write and test the queries, use the web interface at http://pollux.vo.elte.hu/basketball/. Copy queries into the worksheet for submission."
   ]
  },
  {
   "cell_type": "markdown",
   "metadata": {},
   "source": [
    "## Excercise 1 - Simple queries\n",
    "\n",
    "a) List all teams playing in the league during the season\n",
    "\n",
    "b) List teams in alphabetic order but division by division\n",
    "\n",
    "c) Count the number of persons/players in the league"
   ]
  },
  {
   "cell_type": "code",
   "execution_count": null,
   "metadata": {
    "collapsed": true
   },
   "outputs": [],
   "source": [
    "# queries"
   ]
  },
  {
   "cell_type": "markdown",
   "metadata": {},
   "source": [
    "## Excercise 2 - Simple joins\n",
    "\n",
    "a) List teams by division, including the division name\n",
    "\n",
    "b) List players by team including the uniform number"
   ]
  },
  {
   "cell_type": "code",
   "execution_count": null,
   "metadata": {
    "collapsed": true
   },
   "outputs": [],
   "source": [
    "# queries"
   ]
  },
  {
   "cell_type": "markdown",
   "metadata": {},
   "source": [
    "## Excercise 3 - Simple aggregation\n",
    "\n",
    "a) Count number of persons playing for a given team\n",
    "\n",
    "b) List all teams along with the number of players\n",
    "\n",
    "c) Count the number of teams a given person played for\n",
    "\n",
    "d) List all players along with the number of teams they played for\n",
    "\n",
    "e) List players who played for more than two teams during the season"
   ]
  },
  {
   "cell_type": "code",
   "execution_count": null,
   "metadata": {
    "collapsed": true
   },
   "outputs": [],
   "source": [
    "# queries"
   ]
  },
  {
   "cell_type": "markdown",
   "metadata": {},
   "source": [
    "## Excercise 4 - More complex queries with set operations and common table expressions\n",
    "\n",
    "a) Pick a game and list all field shots and free throw attempts, including points\n",
    "\n",
    "b) Combine the previous two into a single table and only show successful attempts\n",
    "\n",
    "c) Take previous query and sum all points by team so that end result is available\n",
    "\n",
    "d) Remove filter on game and get end result of each game during season\n",
    "\n",
    "e) Modify the previous query to return a single line per game, with home team and away team points"
   ]
  },
  {
   "cell_type": "code",
   "execution_count": null,
   "metadata": {
    "collapsed": true
   },
   "outputs": [],
   "source": [
    "# queries"
   ]
  },
  {
   "cell_type": "markdown",
   "metadata": {},
   "source": [
    "## Excercise 5 - a rather complex example\n",
    "\n",
    "a)  Print season results by division. For each team, calculate with a **single_ query**\n",
    "\n",
    "- number of games played\n",
    "- wins\n",
    "- losts\n",
    "- winning percentage\n",
    "\n",
    "Compare with https://en.wikipedia.org/wiki/2008–09_NBA_season#By_division"
   ]
  },
  {
   "cell_type": "code",
   "execution_count": null,
   "metadata": {
    "collapsed": true
   },
   "outputs": [],
   "source": [
    "# query"
   ]
  }
 ],
 "metadata": {
  "kernelspec": {
   "display_name": "Python 3",
   "language": "python",
   "name": "python3"
  },
  "language_info": {
   "codemirror_mode": {
    "name": "ipython",
    "version": 3
   },
   "file_extension": ".py",
   "mimetype": "text/x-python",
   "name": "python",
   "nbconvert_exporter": "python",
   "pygments_lexer": "ipython3",
   "version": "3.6.0"
  }
 },
 "nbformat": 4,
 "nbformat_minor": 2
}
