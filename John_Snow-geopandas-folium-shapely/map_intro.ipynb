{
 "cells": [
  {
   "cell_type": "code",
   "execution_count": null,
   "metadata": {},
   "outputs": [],
   "source": [
    "%pylab inline"
   ]
  },
  {
   "cell_type": "markdown",
   "metadata": {},
   "source": [
    "In many scenarios, either in simulations or when working with real-world data, it may be necessary to use concepts from geometry when programming. In the following, we are going to have a look at some possible scenarios, and in the second hal of the notebook, we are going to add geometries to maps created from several input formats."
   ]
  },
  {
   "cell_type": "markdown",
   "metadata": {},
   "source": [
    "# Points, polygons and lines"
   ]
  },
  {
   "cell_type": "markdown",
   "metadata": {},
   "source": [
    "Perhaps the most common Python library for dealing with shapes is called [`shapely`](https://shapely.readthedocs.io/en/stable/manual.html)"
   ]
  },
  {
   "cell_type": "markdown",
   "metadata": {},
   "source": [
    "### Spatial Data Model\n",
    "\n",
    "The fundamental types of geometric objects implemented by Shapely are *points*, *curves*, and *surfaces*. Each is associated with three sets of points in the plane. The *interior*, *boundary*, and *exterior* sets of a feature are mutually exclusive.\n",
    "\n",
    "* A *Point* has an *interior* set of exactly one point, a *boundary* set of exactly no points, and an *exterior* set of all other points. A Point has a topological dimension of 0.\n",
    "* A *Curve* has an *interior* set consisting of the infinitely many points along its length (imagine a *Point* dragged in space), a *boundary* set consisting of its two end points, and an *exterior* set of all other points. A *Curve* has a topological dimension of 1.\n",
    "* A *Surface* has an *interior* set consisting of the infinitely many points within (imagine a *Curve* dragged in space to  over an area), a *boundary* set consisting of one or more *Curves*, and an *exterior* set of all other points including those within holes that might exist in the surface. A *Surface* has a topological dimension of 2.\n",
    "\n",
    "Let's import them!"
   ]
  },
  {
   "cell_type": "code",
   "execution_count": null,
   "metadata": {
    "ExecuteTime": {
     "end_time": "2018-04-05T09:06:09.547555Z",
     "start_time": "2018-04-05T09:06:09.427063Z"
    }
   },
   "outputs": [],
   "source": [
    "from shapely.geometry import Point,Polygon,LineString"
   ]
  },
  {
   "cell_type": "markdown",
   "metadata": {},
   "source": [
    "Let us define a point! We create an object of the `Point()` class, that can be in 2 or 3 dimensions."
   ]
  },
  {
   "cell_type": "code",
   "execution_count": null,
   "metadata": {
    "ExecuteTime": {
     "end_time": "2018-04-05T09:06:09.806996Z",
     "start_time": "2018-04-05T09:06:09.802295Z"
    }
   },
   "outputs": [],
   "source": [
    "p = Point([0,0])"
   ]
  },
  {
   "cell_type": "code",
   "execution_count": null,
   "metadata": {},
   "outputs": [],
   "source": [
    "p"
   ]
  },
  {
   "cell_type": "markdown",
   "metadata": {},
   "source": [
    "or a line"
   ]
  },
  {
   "cell_type": "code",
   "execution_count": null,
   "metadata": {},
   "outputs": [],
   "source": [
    "l = LineString([[-2,1],[3,5]])"
   ]
  },
  {
   "cell_type": "code",
   "execution_count": null,
   "metadata": {},
   "outputs": [],
   "source": [
    "l"
   ]
  },
  {
   "cell_type": "markdown",
   "metadata": {},
   "source": [
    "We can create polygons by giving a list of coordinates to the constructor of the `Polygon()` class. We don't have to duplicate the first coordinate in the last element, but then our polygon won't be closed."
   ]
  },
  {
   "cell_type": "code",
   "execution_count": null,
   "metadata": {
    "ExecuteTime": {
     "end_time": "2018-04-05T09:06:10.148549Z",
     "start_time": "2018-04-05T09:06:10.141077Z"
    }
   },
   "outputs": [],
   "source": [
    "square = Polygon([[-1,-1],[-1,1],[1,1],[1,-1]])"
   ]
  },
  {
   "cell_type": "markdown",
   "metadata": {},
   "source": [
    "In a Jupyter notebook, we can easily display our shapes."
   ]
  },
  {
   "cell_type": "code",
   "execution_count": null,
   "metadata": {
    "ExecuteTime": {
     "end_time": "2018-04-05T09:06:10.615910Z",
     "start_time": "2018-04-05T09:06:10.608886Z"
    }
   },
   "outputs": [],
   "source": [
    "square"
   ]
  },
  {
   "cell_type": "markdown",
   "metadata": {},
   "source": [
    "Let's write a function that creates regular polygons!"
   ]
  },
  {
   "cell_type": "code",
   "execution_count": null,
   "metadata": {
    "ExecuteTime": {
     "end_time": "2018-04-05T09:06:10.957357Z",
     "start_time": "2018-04-05T09:06:10.953208Z"
    }
   },
   "outputs": [],
   "source": [
    "import numpy as np"
   ]
  },
  {
   "cell_type": "code",
   "execution_count": null,
   "metadata": {
    "ExecuteTime": {
     "end_time": "2018-04-05T09:06:11.127915Z",
     "start_time": "2018-04-05T09:06:11.120435Z"
    }
   },
   "outputs": [],
   "source": [
    "def regular(n,R=1.5):\n",
    "    t = np.linspace(0,2*np.pi,n+1)\n",
    "    return Polygon([[R*np.cos(elem),R*np.sin(elem)] for elem in t])"
   ]
  },
  {
   "cell_type": "code",
   "execution_count": null,
   "metadata": {
    "ExecuteTime": {
     "end_time": "2018-04-05T09:06:11.298633Z",
     "start_time": "2018-04-05T09:06:11.288732Z"
    }
   },
   "outputs": [],
   "source": [
    "fivefold = regular(5)\n",
    "fivefold"
   ]
  },
  {
   "cell_type": "markdown",
   "metadata": {},
   "source": [
    "Let's make some simple operations with our polygons:"
   ]
  },
  {
   "cell_type": "code",
   "execution_count": null,
   "metadata": {
    "ExecuteTime": {
     "end_time": "2018-04-05T09:06:11.617219Z",
     "start_time": "2018-04-05T09:06:11.610206Z"
    }
   },
   "outputs": [],
   "source": [
    "fivefold.area"
   ]
  },
  {
   "cell_type": "code",
   "execution_count": null,
   "metadata": {
    "ExecuteTime": {
     "end_time": "2018-04-05T09:06:11.746337Z",
     "start_time": "2018-04-05T09:06:11.738471Z"
    }
   },
   "outputs": [],
   "source": [
    "fivefold.centroid"
   ]
  },
  {
   "cell_type": "code",
   "execution_count": null,
   "metadata": {
    "ExecuteTime": {
     "end_time": "2018-04-05T09:06:11.929651Z",
     "start_time": "2018-04-05T09:06:11.921695Z"
    }
   },
   "outputs": [],
   "source": [
    "fivefold.union(square)"
   ]
  },
  {
   "cell_type": "code",
   "execution_count": null,
   "metadata": {
    "ExecuteTime": {
     "end_time": "2018-04-05T09:06:12.073751Z",
     "start_time": "2018-04-05T09:06:12.065952Z"
    }
   },
   "outputs": [],
   "source": [
    "fivefold.difference(square)"
   ]
  },
  {
   "cell_type": "code",
   "execution_count": null,
   "metadata": {
    "ExecuteTime": {
     "end_time": "2018-04-05T09:06:12.198346Z",
     "start_time": "2018-04-05T09:06:12.191476Z"
    }
   },
   "outputs": [],
   "source": [
    "fivefold.buffer(0.4)"
   ]
  },
  {
   "cell_type": "code",
   "execution_count": null,
   "metadata": {
    "ExecuteTime": {
     "end_time": "2018-04-05T09:06:12.376152Z",
     "start_time": "2018-04-05T09:06:12.369081Z"
    }
   },
   "outputs": [],
   "source": [
    "square.buffer(1)"
   ]
  },
  {
   "cell_type": "code",
   "execution_count": null,
   "metadata": {
    "ExecuteTime": {
     "end_time": "2018-04-05T09:06:12.552073Z",
     "start_time": "2018-04-05T09:06:12.545161Z"
    }
   },
   "outputs": [],
   "source": [
    "fivefold.boundary"
   ]
  },
  {
   "cell_type": "code",
   "execution_count": null,
   "metadata": {
    "ExecuteTime": {
     "end_time": "2018-04-05T09:06:12.686300Z",
     "start_time": "2018-04-05T09:06:12.680501Z"
    }
   },
   "outputs": [],
   "source": [
    "fivefold.boundary.geom_type"
   ]
  },
  {
   "cell_type": "markdown",
   "metadata": {},
   "source": [
    "# Simple maps"
   ]
  },
  {
   "cell_type": "markdown",
   "metadata": {
    "collapsed": true
   },
   "source": [
    "\n",
    "If we do the data analysis in Python, then it would be convenient to put our data on a map in Python, too. There are some libraries that enable the usage of the powerful and lightweight [Leaflet.js](https://leafletjs.com/) library in Python. In the following cells, we are going to have a look at some basic functionalities of these maps in Folium. You may use another library as you choose."
   ]
  },
  {
   "cell_type": "code",
   "execution_count": null,
   "metadata": {
    "ExecuteTime": {
     "end_time": "2018-04-05T09:06:13.874375Z",
     "start_time": "2018-04-05T09:06:13.177247Z"
    }
   },
   "outputs": [],
   "source": [
    "import folium"
   ]
  },
  {
   "cell_type": "markdown",
   "metadata": {},
   "source": [
    "Let's display the inner city of Budapest in a Jupyter Notebook!"
   ]
  },
  {
   "cell_type": "code",
   "execution_count": null,
   "metadata": {
    "ExecuteTime": {
     "end_time": "2018-04-05T09:06:13.993064Z",
     "start_time": "2018-04-05T09:06:13.901181Z"
    }
   },
   "outputs": [],
   "source": [
    "folium.Map(location=[47.5,19.05],zoom_start=13)"
   ]
  },
  {
   "cell_type": "markdown",
   "metadata": {},
   "source": [
    "The map used the tiles of the openstreetmap.org freely available database. There are many other options depending on our aims, see https://deparkes.co.uk/2016/06/10/folium-map-tiles/. A rather artistic approach for example is:"
   ]
  },
  {
   "cell_type": "code",
   "execution_count": null,
   "metadata": {
    "ExecuteTime": {
     "end_time": "2018-04-05T09:06:14.218474Z",
     "start_time": "2018-04-05T09:06:14.019281Z"
    }
   },
   "outputs": [],
   "source": [
    "folium.Map(location=[47.5,19.05],zoom_start=13,tiles='stamenwatercolor')"
   ]
  },
  {
   "cell_type": "markdown",
   "metadata": {},
   "source": [
    "Let's stick to a more scientific version, and let's add some useful objects to our map!"
   ]
  },
  {
   "cell_type": "code",
   "execution_count": null,
   "metadata": {
    "ExecuteTime": {
     "end_time": "2018-04-05T09:06:14.533037Z",
     "start_time": "2018-04-05T09:06:14.376956Z"
    }
   },
   "outputs": [],
   "source": [
    "mymap = folium.Map(location=[47.5,19.05],zoom_start=13,tiles='cartodbpositron')\n",
    "marker = folium.Marker(location=[47.47,19.06],popup='ELTE')\n",
    "marker.add_to(mymap)\n",
    "mymap"
   ]
  },
  {
   "cell_type": "code",
   "execution_count": null,
   "metadata": {
    "ExecuteTime": {
     "end_time": "2018-04-05T09:06:14.927364Z",
     "start_time": "2018-04-05T09:06:14.787735Z"
    }
   },
   "outputs": [],
   "source": [
    "mymap = folium.Map(location=[47.5,19.05],zoom_start=13,tiles='cartodbpositron')\n",
    "marker = folium.Marker(location=[47.47,19.06],popup='ELTE')\n",
    "mymap.add_child(marker)"
   ]
  },
  {
   "cell_type": "markdown",
   "metadata": {},
   "source": [
    "Which coordinate reference system does our map use? https://epsg.io/3857"
   ]
  },
  {
   "cell_type": "code",
   "execution_count": null,
   "metadata": {
    "ExecuteTime": {
     "end_time": "2018-04-05T07:33:21.725838Z",
     "start_time": "2018-04-05T07:33:21.719162Z"
    }
   },
   "outputs": [],
   "source": [
    "mymap.crs"
   ]
  },
  {
   "cell_type": "code",
   "execution_count": null,
   "metadata": {},
   "outputs": [],
   "source": [
    "mymap.get_bounds()"
   ]
  },
  {
   "cell_type": "code",
   "execution_count": null,
   "metadata": {
    "ExecuteTime": {
     "end_time": "2018-04-05T07:33:28.277559Z",
     "start_time": "2018-04-05T07:33:28.183369Z"
    }
   },
   "outputs": [],
   "source": [
    "mymap.fit_bounds(mymap.get_bounds())\n",
    "mymap"
   ]
  },
  {
   "cell_type": "markdown",
   "metadata": {},
   "source": [
    "## Geopandas"
   ]
  },
  {
   "cell_type": "markdown",
   "metadata": {},
   "source": [
    "The ultimate tool to read almost any kind of geographical data is GeoPandas.\n",
    "\n",
    "The goal of GeoPandas is to make working with geospatial data in python easier. It combines the capabilities of pandas and shapely, providing geospatial operations in pandas and a high-level interface to multiple geometries to shapely. GeoPandas enables you to easily do operations in python that would otherwise require a spatial database such as PostGIS."
   ]
  },
  {
   "cell_type": "code",
   "execution_count": null,
   "metadata": {
    "ExecuteTime": {
     "end_time": "2018-04-06T07:24:57.765877Z",
     "start_time": "2018-04-06T07:24:57.037204Z"
    }
   },
   "outputs": [],
   "source": [
    "import geopandas as gpd"
   ]
  },
  {
   "cell_type": "markdown",
   "metadata": {},
   "source": [
    "We are going to try out some simple operations on Hungarian county and highway data. You can download the county dataset from here: https://data2.openstreetmap.hu/hatarok/index.php?admin=6. It contains so-called shapefiles that store the geometric information and the metadata as well. The `.shp` file can be opened in geopandas as follows:"
   ]
  },
  {
   "cell_type": "code",
   "execution_count": null,
   "metadata": {
    "ExecuteTime": {
     "end_time": "2018-04-06T07:24:58.188466Z",
     "start_time": "2018-04-06T07:24:57.782526Z"
    }
   },
   "outputs": [],
   "source": [
    "megyek = gpd.read_file('shapes/admin6.shp', encoding = 'utf8')\n",
    "megyek.head()"
   ]
  },
  {
   "cell_type": "markdown",
   "metadata": {},
   "source": [
    "The geometry column contains the already known shapely `Polygon` class objects! Let's check Borsod-Abaúj-Zemplén:"
   ]
  },
  {
   "cell_type": "code",
   "execution_count": null,
   "metadata": {
    "ExecuteTime": {
     "end_time": "2018-04-06T07:24:59.578010Z",
     "start_time": "2018-04-06T07:24:59.573343Z"
    }
   },
   "outputs": [],
   "source": [
    "baz = megyek['geometry'][0]"
   ]
  },
  {
   "cell_type": "markdown",
   "metadata": {},
   "source": [
    "Which coordinate system did this shapefile use? http://geopandas.org/projections.html"
   ]
  },
  {
   "cell_type": "code",
   "execution_count": null,
   "metadata": {
    "ExecuteTime": {
     "end_time": "2018-04-06T07:25:00.226164Z",
     "start_time": "2018-04-06T07:25:00.220934Z"
    }
   },
   "outputs": [],
   "source": [
    "megyek.crs"
   ]
  },
  {
   "cell_type": "markdown",
   "metadata": {},
   "source": [
    "Which county has the biggest area?"
   ]
  },
  {
   "cell_type": "code",
   "execution_count": null,
   "metadata": {
    "ExecuteTime": {
     "end_time": "2018-04-06T07:25:01.311607Z",
     "start_time": "2018-04-06T07:25:01.302606Z"
    }
   },
   "outputs": [],
   "source": [
    "megyek['NAME'][megyek.area.idxmax]"
   ]
  },
  {
   "cell_type": "markdown",
   "metadata": {},
   "source": [
    "Let us create a list of neighboring counties."
   ]
  },
  {
   "cell_type": "markdown",
   "metadata": {},
   "source": [
    "First, we 'inflate' our polygons."
   ]
  },
  {
   "cell_type": "code",
   "execution_count": null,
   "metadata": {
    "ExecuteTime": {
     "end_time": "2018-04-06T07:25:02.489441Z",
     "start_time": "2018-04-06T07:25:02.484408Z"
    }
   },
   "outputs": [],
   "source": [
    "from copy import deepcopy"
   ]
  },
  {
   "cell_type": "code",
   "execution_count": null,
   "metadata": {
    "ExecuteTime": {
     "end_time": "2018-04-06T07:25:03.440343Z",
     "start_time": "2018-04-06T07:25:03.308790Z"
    }
   },
   "outputs": [],
   "source": [
    "big_megyek = deepcopy(megyek)\n",
    "big_megyek['geometry'] = big_megyek['geometry'].buffer(10)\n",
    "big_megyek2 = deepcopy(big_megyek)"
   ]
  },
  {
   "cell_type": "code",
   "execution_count": null,
   "metadata": {
    "ExecuteTime": {
     "end_time": "2018-04-06T08:36:40.850072Z",
     "start_time": "2018-04-06T08:36:38.437574Z"
    }
   },
   "outputs": [],
   "source": [
    "big_megyek2"
   ]
  },
  {
   "cell_type": "code",
   "execution_count": null,
   "metadata": {
    "ExecuteTime": {
     "end_time": "2018-04-06T07:25:07.766447Z",
     "start_time": "2018-04-06T07:25:07.589697Z"
    }
   },
   "outputs": [],
   "source": [
    "neighbors = gpd.sjoin(big_megyek,big_megyek2,how ='left',op='intersects')[['NAME_left','NAME_right']]"
   ]
  },
  {
   "cell_type": "code",
   "execution_count": null,
   "metadata": {
    "ExecuteTime": {
     "end_time": "2018-04-06T07:25:11.802956Z",
     "start_time": "2018-04-06T07:25:11.793933Z"
    }
   },
   "outputs": [],
   "source": [
    "neighbors.head(9)"
   ]
  },
  {
   "cell_type": "markdown",
   "metadata": {},
   "source": [
    "## Reprojecting and quick plotting geopandas data"
   ]
  },
  {
   "cell_type": "code",
   "execution_count": null,
   "metadata": {
    "ExecuteTime": {
     "end_time": "2018-04-06T07:25:21.815715Z",
     "start_time": "2018-04-06T07:25:20.053805Z"
    }
   },
   "outputs": [],
   "source": [
    "railways = gpd.read_file('shapes/gis.osm_railways_free_1.shp')\n",
    "railways.plot()"
   ]
  },
  {
   "cell_type": "code",
   "execution_count": null,
   "metadata": {},
   "outputs": [],
   "source": [
    "railways.crs"
   ]
  },
  {
   "cell_type": "code",
   "execution_count": null,
   "metadata": {
    "ExecuteTime": {
     "end_time": "2018-04-06T07:25:27.480932Z",
     "start_time": "2018-04-06T07:25:25.839838Z"
    }
   },
   "outputs": [],
   "source": [
    "railways.to_crs({'init': 'epsg:3395'}, inplace=True)\n",
    "railways.plot()"
   ]
  },
  {
   "cell_type": "markdown",
   "metadata": {},
   "source": [
    "## How long railways do Hungarian counties have?"
   ]
  },
  {
   "cell_type": "markdown",
   "metadata": {},
   "source": [
    "We should reproject the county dataset to match the projection of the railway dataset."
   ]
  },
  {
   "cell_type": "code",
   "execution_count": null,
   "metadata": {},
   "outputs": [],
   "source": [
    "# That would be the command without an R-Tree search. This takes too long!\n",
    "# rr = railways.intersects(geometry_BAZ_megye)"
   ]
  },
  {
   "cell_type": "code",
   "execution_count": null,
   "metadata": {
    "ExecuteTime": {
     "end_time": "2018-04-06T07:25:32.418372Z",
     "start_time": "2018-04-06T07:25:32.298293Z"
    }
   },
   "outputs": [],
   "source": [
    "megyek.to_crs({'init': 'epsg:3395'}, inplace=True)"
   ]
  },
  {
   "cell_type": "markdown",
   "metadata": {},
   "source": [
    "Sometimes it is useful to speed up spatial operations using a spatial index. Here is a good introduction into R-trees in geopandas.\n",
    "\n",
    "http://geoffboeing.com/2016/10/r-tree-spatial-index-python/"
   ]
  },
  {
   "cell_type": "markdown",
   "metadata": {},
   "source": [
    "Creating an R-tree index:"
   ]
  },
  {
   "cell_type": "code",
   "execution_count": null,
   "metadata": {
    "ExecuteTime": {
     "end_time": "2018-04-06T07:25:38.002329Z",
     "start_time": "2018-04-06T07:25:36.407686Z"
    }
   },
   "outputs": [],
   "source": [
    "spatial_index = railways.sindex"
   ]
  },
  {
   "cell_type": "code",
   "execution_count": null,
   "metadata": {
    "ExecuteTime": {
     "end_time": "2018-04-06T07:25:42.359790Z",
     "start_time": "2018-04-06T07:25:42.352208Z"
    }
   },
   "outputs": [],
   "source": [
    "type(spatial_index)"
   ]
  },
  {
   "cell_type": "code",
   "execution_count": null,
   "metadata": {
    "ExecuteTime": {
     "end_time": "2018-04-06T07:25:47.126519Z",
     "start_time": "2018-04-06T07:25:46.792900Z"
    }
   },
   "outputs": [],
   "source": [
    "megyek.head()"
   ]
  },
  {
   "cell_type": "code",
   "execution_count": null,
   "metadata": {
    "ExecuteTime": {
     "end_time": "2018-04-06T07:25:51.092967Z",
     "start_time": "2018-04-06T07:25:51.043566Z"
    }
   },
   "outputs": [],
   "source": [
    "spatial_index = railways.sindex\n",
    "\n",
    "#The intersection of the railway system with each of the counties\n",
    "megyek['possible_matches'] = megyek['geometry'].map(lambda g: list(spatial_index.intersection(g.bounds)))"
   ]
  },
  {
   "cell_type": "markdown",
   "metadata": {},
   "source": [
    "Trying out the concept.\n",
    "\n",
    "Take a look at the new column in *megyek*:"
   ]
  },
  {
   "cell_type": "code",
   "execution_count": null,
   "metadata": {
    "ExecuteTime": {
     "end_time": "2018-04-06T08:50:33.684894Z",
     "start_time": "2018-04-06T08:50:32.878750Z"
    }
   },
   "outputs": [],
   "source": [
    "megyek"
   ]
  },
  {
   "cell_type": "code",
   "execution_count": null,
   "metadata": {
    "ExecuteTime": {
     "end_time": "2018-04-06T08:02:23.647050Z",
     "start_time": "2018-04-06T08:02:23.562187Z"
    }
   },
   "outputs": [],
   "source": [
    "railways"
   ]
  },
  {
   "cell_type": "code",
   "execution_count": null,
   "metadata": {},
   "outputs": [],
   "source": [
    "railways.iloc[railway_BAZ_megye].plot()"
   ]
  },
  {
   "cell_type": "code",
   "execution_count": null,
   "metadata": {},
   "outputs": [],
   "source": [
    "def filter_railways(indices, polygon):\n",
    "    #Selects points \n",
    "    sdf = railways.iloc[indices]\n",
    "    return list(sdf[sdf.intersects(polygon)].index)"
   ]
  },
  {
   "cell_type": "code",
   "execution_count": null,
   "metadata": {
    "ExecuteTime": {
     "end_time": "2018-04-06T07:25:56.794904Z",
     "start_time": "2018-04-06T07:25:55.869962Z"
    }
   },
   "outputs": [],
   "source": [
    "railway_BAZ_megye = megyek['possible_matches'][0] #The intersection of the railway system with the given county\n",
    "geometry_BAZ_megye = megyek['geometry'][0]   \n",
    "railways.loc[filter_railways(railway_BAZ_megye, geometry_BAZ_megye)].plot()"
   ]
  },
  {
   "cell_type": "markdown",
   "metadata": {},
   "source": [
    "Creating the intersections, calculating the lengths in km:"
   ]
  },
  {
   "cell_type": "code",
   "execution_count": null,
   "metadata": {
    "ExecuteTime": {
     "end_time": "2018-04-06T07:26:33.492701Z",
     "start_time": "2018-04-06T07:26:01.949880Z"
    },
    "scrolled": true
   },
   "outputs": [],
   "source": [
    "megyek['matches'] = megyek.apply(lambda row: filter_railways(row['possible_matches'], row['geometry']),axis=1)\n",
    "megyek['lengths']= megyek['matches'].map(lambda m: sum(railways.loc[m].length)/1000)\n",
    "\n",
    "megyek.sort_values(by='lengths',ascending=False)"
   ]
  },
  {
   "cell_type": "markdown",
   "metadata": {},
   "source": [
    "## Adding shapes to a folium map - Railtracks in Budapest"
   ]
  },
  {
   "cell_type": "code",
   "execution_count": 2,
   "metadata": {
    "ExecuteTime": {
     "end_time": "2018-04-06T07:26:57.387421Z",
     "start_time": "2018-04-06T07:26:56.944317Z"
    }
   },
   "outputs": [],
   "source": [
    "import json, folium"
   ]
  },
  {
   "cell_type": "markdown",
   "metadata": {},
   "source": [
    "We use the same basemap as before, and we retrieve the railways of Budapest from our previous analysis. Then, we reproject the railways to use *lon, lat* coordinates again, and convert them to GeoJSON, which is then added by folium to the map."
   ]
  },
  {
   "cell_type": "markdown",
   "metadata": {},
   "source": [
    "What is JSON: https://en.wikipedia.org/wiki/JSON\n",
    "\n",
    "Tutorial with JSONs: https://www.w3schools.com/jS/js_json_intro.asp"
   ]
  },
  {
   "cell_type": "code",
   "execution_count": null,
   "metadata": {
    "ExecuteTime": {
     "end_time": "2018-04-06T07:28:20.200792Z",
     "start_time": "2018-04-06T07:28:20.173271Z"
    }
   },
   "outputs": [],
   "source": [
    "railways.head()"
   ]
  },
  {
   "cell_type": "code",
   "execution_count": null,
   "metadata": {
    "ExecuteTime": {
     "end_time": "2018-04-06T07:27:03.967307Z",
     "start_time": "2018-04-06T07:27:02.071626Z"
    }
   },
   "outputs": [],
   "source": [
    "mymap = folium.Map(location=[47.5,19.05], zoom_start=13, tiles='cartodbpositron')\n",
    "budapest_railways = railways.loc[megyek['matches'][12]].to_crs({'init':'epsg:4326'})\n",
    "bpr_geojson = json.loads(budapest_railways.to_json())"
   ]
  },
  {
   "cell_type": "code",
   "execution_count": null,
   "metadata": {
    "ExecuteTime": {
     "end_time": "2018-04-06T07:27:29.122947Z",
     "start_time": "2018-04-06T07:27:29.099903Z"
    }
   },
   "outputs": [],
   "source": [
    "budapest_railways.head()"
   ]
  },
  {
   "cell_type": "code",
   "execution_count": null,
   "metadata": {
    "ExecuteTime": {
     "end_time": "2018-04-06T07:28:56.273568Z",
     "start_time": "2018-04-06T07:28:55.455057Z"
    }
   },
   "outputs": [],
   "source": [
    "bpr_geojson"
   ]
  },
  {
   "cell_type": "markdown",
   "metadata": {},
   "source": [
    "Displaying the results."
   ]
  },
  {
   "cell_type": "code",
   "execution_count": null,
   "metadata": {
    "ExecuteTime": {
     "end_time": "2018-04-06T07:27:10.367379Z",
     "start_time": "2018-04-06T07:27:09.572749Z"
    }
   },
   "outputs": [],
   "source": [
    "folium.GeoJson(bpr_geojson).add_to(mymap)\n",
    "mymap"
   ]
  },
  {
   "cell_type": "code",
   "execution_count": null,
   "metadata": {},
   "outputs": [],
   "source": []
  }
 ],
 "metadata": {
  "anaconda-cloud": {},
  "hide_input": false,
  "kernelspec": {
   "display_name": "Python 3",
   "language": "python",
   "name": "python3"
  },
  "language_info": {
   "codemirror_mode": {
    "name": "ipython",
    "version": 3
   },
   "file_extension": ".py",
   "mimetype": "text/x-python",
   "name": "python",
   "nbconvert_exporter": "python",
   "pygments_lexer": "ipython3",
   "version": "3.6.8"
  },
  "varInspector": {
   "cols": {
    "lenName": 16,
    "lenType": 16,
    "lenVar": 40
   },
   "kernels_config": {
    "python": {
     "delete_cmd_postfix": "",
     "delete_cmd_prefix": "del ",
     "library": "var_list.py",
     "varRefreshCmd": "print(var_dic_list())"
    },
    "r": {
     "delete_cmd_postfix": ") ",
     "delete_cmd_prefix": "rm(",
     "library": "var_list.r",
     "varRefreshCmd": "cat(var_dic_list()) "
    }
   },
   "types_to_exclude": [
    "module",
    "function",
    "builtin_function_or_method",
    "instance",
    "_Feature"
   ],
   "window_display": false
  }
 },
 "nbformat": 4,
 "nbformat_minor": 2
}
