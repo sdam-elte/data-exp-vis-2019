{
 "cells": [
  {
   "cell_type": "markdown",
   "metadata": {},
   "source": [
    "https://catalog.data.gov/dataset/traffic-violations-56dda\n",
    "\n",
    "## Traffic Violations\n",
    "Metadata Updated: August 9, 2018\n",
    "\n",
    "This dataset contains traffic violation information from all electronic traffic violations issued in the County. Any information that can be used to uniquely identify the vehicle, the vehicle owner or the officer issuing the violation will not be published.\n",
    "\n",
    "Update Frequency: Daily\n"
   ]
  },
  {
   "cell_type": "code",
   "execution_count": null,
   "metadata": {},
   "outputs": [],
   "source": [
    "import pandas as pd\n",
    "\n",
    "import  holoviews as hv\n",
    "from holoviews import opts\n",
    "hv.extension('bokeh')\n",
    "\n",
    "import numpy as np\n",
    "\n",
    "from bokeh.io import output_notebook, show\n",
    "from bokeh.plotting import figure\n",
    "from bokeh.models import ColumnDataSource, FactorRange\n",
    "from bokeh.transform import factor_cmap\n",
    "from bokeh.models import DatetimeTickFormatter\n",
    "from bokeh.models.tools import HoverTool\n",
    "from datetime import datetime as dt"
   ]
  },
  {
   "cell_type": "code",
   "execution_count": null,
   "metadata": {},
   "outputs": [],
   "source": [
    "# This is needed only for testing purposes, to reveal the plots in the notebook\n",
    "\n",
    "#output_notebook()"
   ]
  },
  {
   "cell_type": "code",
   "execution_count": null,
   "metadata": {},
   "outputs": [],
   "source": [
    "df = pd.read_csv('/home/wfct0p/downloads/data/traffic-violation-small.csv', parse_dates=['Date Of Stop','Time Of Stop'])\n",
    "df.head()"
   ]
  },
  {
   "cell_type": "code",
   "execution_count": null,
   "metadata": {},
   "outputs": [],
   "source": [
    "# Select violations by gender\n",
    "ndf = pd.DataFrame() \n",
    "ndf['gender'] = df.Gender\n",
    "ndf.index = df['Time Of Stop'].astype('datetime64[ns]')\n",
    "ndf.index.rename('time', inplace=True)"
   ]
  },
  {
   "cell_type": "code",
   "execution_count": null,
   "metadata": {},
   "outputs": [],
   "source": [
    "ndf = ndf.resample('h').sum()"
   ]
  },
  {
   "cell_type": "code",
   "execution_count": null,
   "metadata": {},
   "outputs": [],
   "source": [
    "ndf['M'] = ndf.gender.apply(lambda x: x.count('M'))\n",
    "ndf['F'] = ndf.gender.apply(lambda x: x.count('F'))\n",
    "ndf['Total'] = ndf.gender.apply(lambda x: x.count(''))\n",
    "                                              "
   ]
  },
  {
   "cell_type": "code",
   "execution_count": null,
   "metadata": {},
   "outputs": [],
   "source": [
    "# Use bokeh structure\n",
    "source = ColumnDataSource(ndf)"
   ]
  },
  {
   "cell_type": "code",
   "execution_count": null,
   "metadata": {},
   "outputs": [],
   "source": [
    "# A simple static plot\n",
    "layout = hv.Curve(ndf, ('time', 'Date'), 'M') * hv.Curve(ndf, ('time', 'Date'), 'F')\n",
    "\n",
    "layout.opts(\n",
    "    opts.Curve( height=200, width=900,  line_width=1.50, tools=['hover']))"
   ]
  },
  {
   "cell_type": "code",
   "execution_count": null,
   "metadata": {},
   "outputs": [],
   "source": [
    "# An interactive plot \n",
    "\n",
    "gender_symbols = ['F', 'M']\n",
    "hmap = hv.HoloMap({s: hv.Curve(ndf, ('time', 'Date'), s) for s in gender_symbols},\n",
    "           kdims='Symbol').redim.values(Symbol=gender_symbols)\n",
    "hmap.opts(framewise=True, height=400, width=600,  line_width=1.50, tools=['hover'])"
   ]
  }
 ],
 "metadata": {
  "kernelspec": {
   "display_name": "Python 3",
   "language": "python",
   "name": "python3"
  },
  "language_info": {
   "codemirror_mode": {
    "name": "ipython",
    "version": 3
   },
   "file_extension": ".py",
   "mimetype": "text/x-python",
   "name": "python",
   "nbconvert_exporter": "python",
   "pygments_lexer": "ipython3",
   "version": "3.6.6"
  }
 },
 "nbformat": 4,
 "nbformat_minor": 2
}
