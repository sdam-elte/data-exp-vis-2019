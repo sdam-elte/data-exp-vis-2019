{
 "cells": [
  {
   "cell_type": "markdown",
   "metadata": {},
   "source": [
    "<img src=\"http://pyviz.org/assets/matplotlib_wm.png\" width=13%>\n",
    "\n",
    "**Matplotlib** is a Python 2D plotting library which produces publication quality figures in a variety of hardcopy formats and interactive environments across platforms."
   ]
  },
  {
   "cell_type": "markdown",
   "metadata": {},
   "source": [
    "```\n",
    "\"outputs\": [\n",
    "    {\n",
    "     \"data\": {\n",
    "      \"image/png\": \"iVBORw0KGgoAAAANSUhEUgAAAwEAAAFNCAYAAABYGmMrAAAABHNCSVQICAgIfAhkiAAAAAlwSFlzAAALEgAACxIB0t1+/AAAADl0RVh\n",
    "0U29mdHdhcmUAbWF0cGxvdGxpYiB2ZXJzaW9uIDMuMC4yLCBodHRwOi8vbWF0cGxvdGxpYi5vcmcvOIA7rQAAIABJREFUeJzs3XecFdX9//HXBxBWAcGGDQOoqF\n",
    "gCAUSNbTXR2PGr8RdLItEk2I0xiSUmsSeamK+ab4qa2Hs3xpiCZTXYEBQbWBEVRUCauwLLLvv5/TFn4e7l3t2Zu3dvfT8fj91775QzZ87MnDln5pwZc3dERERER\n",
    "KR6dCt2BEREREREpLBUCRARERERqTKqBIiIiIiIVBl .....\n",
    "```\n",
    "\n",
    "\n",
    "**Creating and displaying images like Pngs, jpgs etc are not efficient.**"
   ]
  },
  {
   "cell_type": "markdown",
   "metadata": {},
   "source": [
    "## Many commercial platforms for displaying data\n",
    "\n",
    "https://financesonline.com/data-visualization/"
   ]
  },
  {
   "cell_type": "markdown",
   "metadata": {},
   "source": [
    "## Observable\n",
    "\n",
    "If you are into javascript then try it\n",
    "\n",
    "https://observablehq.com/\n",
    "\n"
   ]
  },
  {
   "cell_type": "markdown",
   "metadata": {},
   "source": [
    "\n",
    "\n",
    "\n",
    "# Pyviz.org\n",
    "\n"
   ]
  },
  {
   "cell_type": "markdown",
   "metadata": {},
   "source": [
    "<img src=\"https://bokeh.pydata.org/en/latest/_static/images/logo.png\" width=13%>\n",
    "\n",
    "## Bokeh\n",
    "\n",
    "is an interactive visualization library that targets modern web browsers for presentation\n",
    "\n",
    "https://bokeh.pydata.org/en/latest/\n",
    "\n",
    "pelda:\n",
    "https://kooplex-edu.elte.hu/notebook/wfct0p-dataexplvisu/notebooks/wfct0p/exp-copy/projects/water/worksheet.ipynb"
   ]
  },
  {
   "cell_type": "markdown",
   "metadata": {},
   "source": [
    "## Let's have a look at the output cells\n",
    "\n",
    "* importing the library introduces new Js functions\n",
    "\n",
    "```\n",
    " \"outputs\": [\n",
    "    {\n",
    "     \"data\": {\n",
    "      \"application/javascript\": [\n",
    "       \"\\n\",\n",
    "       \"(function(root) {\\n\",\n",
    "       \"  function now() {\\n\",\n",
    "       \"    return new Date();\\n\",\n",
    "       \"  }\\n\",\n",
    "       \"\\n\",\n",
    "       \"  var force = true;\\n\",\n",
    "       \"\\n\",\n",
    "```\n",
    "\n",
    "* The outputs are javascript codes, that contain html and css as well:\n",
    "\n",
    "```\n",
    "\"outputs\": [\n",
    "    {\n",
    "     \"data\": {\n",
    "      \"application/javascript\": [\n",
    "       \"// Ugly hack - see HoloViews #2574 for more information\\n\",\n",
    "       \"if (!(document.getElementById('1734')) && !(document.getElementById('_anim_img1734'))) {\\n\",\n",
    "       \"  console.log(\\\"Creating DOM nodes dynamically for assumed nbconvert export. To generate clean HTML output set HV_D\n",
    "OC_HTML as an environment variable.\\\")\\n\",\n",
    "       \"  var htmlObject = document.createElement('div');\\n\",\n",
    "       \"  htmlObject.innerHTML =\n",
    "       \"  <div class=\\\"bk-root\\\" id=\\\"d70afa8e-dad5-447b-86dd-dc6647948442\\\" data-root-id=\\\"1734\\\"></div>\\n\",\n",
    "       \"`;\\n\",\n",
    "       \"  var scriptTags = document.getElementsByTagName('script');\\n\",.....\n",
    "```"
   ]
  },
  {
   "cell_type": "markdown",
   "metadata": {},
   "source": [
    "<img src=\"https://panel.pyviz.org/_static/logo_stacked.png\" width=13%>\n",
    "Panel is an open-source Python library that lets you create custom interactive web apps and dashboards by connecting user-defined widgets to plots, images, tables, or text.\n",
    "\n",
    "https://panel.pyviz.org/"
   ]
  },
  {
   "cell_type": "markdown",
   "metadata": {},
   "source": [
    "<img src=\"http://pyviz.org/assets/geoviews.png\" width=20%>\n",
    "\n",
    " Geographic visualizations for HoloViews\n",
    "\n",
    "GeoViews is a Python library that makes it easy to explore and visualize geographical, meteorological, and oceanographic datasets, such as those used in weather, climate, and remote sensing research. "
   ]
  },
  {
   "cell_type": "code",
   "execution_count": 2,
   "metadata": {},
   "outputs": [],
   "source": [
    "import param"
   ]
  },
  {
   "cell_type": "code",
   "execution_count": 3,
   "metadata": {},
   "outputs": [
    {
     "data": {
      "text/plain": [
       "50000"
      ]
     },
     "execution_count": 3,
     "metadata": {},
     "output_type": "execute_result"
    }
   ],
   "source": [
    "import param\n",
    "import datetime as dt\n",
    "\n",
    "def hello(x, **kwargs):\n",
    "    print(\"Hello %s\" % x)\n",
    "    \n",
    "class BaseClass(param.Parameterized):\n",
    "    x                       = param.Parameter(default=3.14,doc=\"X position\")\n",
    "    y                       = param.Parameter(default=\"Not editable\",constant=True)\n",
    "    string_value            = param.String(default=\"str\",doc=\"A string\")\n",
    "    num_int                 = param.Integer(50000,bounds=(-200,100000))\n",
    "    unbounded_int           = param.Integer(23)\n",
    "    float_with_hard_bounds  = param.Number(8.2,bounds=(7.5,10))\n",
    "    float_with_soft_bounds  = param.Number(0.5,bounds=(0,None),softbounds=(0,2))\n",
    "    unbounded_float         = param.Number(30.01,precedence=0)\n",
    "    hidden_parameter        = param.Number(2.718,precedence=-1)\n",
    "    integer_range           = param.Range(default=(3,7),bounds=(0, 10))\n",
    "    float_range             = param.Range(default=(0,1.57),bounds=(0, 3.145))\n",
    "    dictionary              = param.Dict(default={\"a\":2, \"b\":9})\n",
    "    \n",
    "class Example(BaseClass):\n",
    "    \"\"\"An example Parameterized class\"\"\"\n",
    "    boolean                 = param.Boolean(True, doc=\"A sample Boolean parameter\")\n",
    "    color                   = param.Color(default='#FFFFFF')\n",
    "    date                    = param.Date(dt.datetime(2017, 1, 1),\n",
    "                                         bounds=(dt.datetime(2017, 1, 1), dt.datetime(2017, 2, 1)))\n",
    "    select_string           = param.ObjectSelector(default=\"yellow\",objects=[\"red\",\"yellow\",\"green\"])\n",
    "    select_fn               = param.ObjectSelector(default=list,objects=[list,set,dict])\n",
    "    int_list                = param.ListSelector(default=[3,5], objects=[1,3,5,7,9],precedence=0.5)\n",
    "    single_file             = param.FileSelector(path='../*/*.py*',precedence=0.5)\n",
    "    multiple_files          = param.MultiFileSelector(path='../*/*.py?',precedence=0.5)\n",
    "    msg                     = param.Action(hello, doc=\"\"\"Print a message.\"\"\",precedence=0.7)\n",
    "    \n",
    "Example.num_int\n"
   ]
  },
  {
   "cell_type": "code",
   "execution_count": 4,
   "metadata": {},
   "outputs": [
    {
     "data": {
      "text/plain": [
       "50000"
      ]
     },
     "execution_count": 4,
     "metadata": {},
     "output_type": "execute_result"
    }
   ],
   "source": [
    "Example.num_int"
   ]
  },
  {
   "cell_type": "code",
   "execution_count": 10,
   "metadata": {},
   "outputs": [],
   "source": [
    "import paramnb, panel"
   ]
  },
  {
   "cell_type": "code",
   "execution_count": 11,
   "metadata": {},
   "outputs": [
    {
     "data": {
      "application/javascript": [
       "\n",
       "define('activehtml', [\"jupyter-js-widgets\"], function(widgets) {\n",
       "    var ActiveHTMLView = widgets.HTMLView.extend({\n",
       "        update: function() {\n",
       "            $(this.el).html(this.model.get('value'));\n",
       "        }\n",
       "    });\n",
       "    return {\n",
       "        ActiveHTMLView: ActiveHTMLView\n",
       "    };\n",
       "});\n"
      ],
      "text/plain": [
       "<IPython.core.display.Javascript object>"
      ]
     },
     "metadata": {},
     "output_type": "display_data"
    },
    {
     "data": {
      "application/vnd.jupyter.widget-view+json": {
       "model_id": "8be871ffc3854cdc90b0397c3e5f608e",
       "version_major": 2,
       "version_minor": 0
      },
      "text/html": [
       "<p>Failed to display Jupyter Widget of type <code>VBox</code>.</p>\n",
       "<p>\n",
       "  If you're reading this message in the Jupyter Notebook or JupyterLab Notebook, it may mean\n",
       "  that the widgets JavaScript is still loading. If this message persists, it\n",
       "  likely means that the widgets JavaScript library is either not installed or\n",
       "  not enabled. See the <a href=\"https://ipywidgets.readthedocs.io/en/stable/user_install.html\">Jupyter\n",
       "  Widgets Documentation</a> for setup instructions.\n",
       "</p>\n",
       "<p>\n",
       "  If you're reading this message in another frontend (for example, a static\n",
       "  rendering on GitHub or <a href=\"https://nbviewer.jupyter.org/\">NBViewer</a>),\n",
       "  it may mean that your frontend doesn't currently support widgets.\n",
       "</p>\n"
      ],
      "text/plain": [
       "VBox(children=(HTML(value='\\n        <style>\\n          .widget-dropdown .dropdown-menu { width: 100% }\\n          .widget-select-multiple select { min-height: 100px; min-width: 300px;}\\n        </style>\\n        <div class=\"ttip\"><b>Example</b></div>'), HBox(children=(HTML(value='<div title=\"\" style=\"padding: 5px; width: 165px;\\n                      text-align: right;\">unbounded_float</div>'), FloatText(value=30.01))), HBox(children=(HTML(value='<div title=\"A sample Boolean parameter\" style=\"padding: 5px; width: 165px;\\n                      text-align: right;\">boolean</div>'), Checkbox(value=True))), HBox(children=(HTML(value='<div title=\"\" style=\"padding: 5px; width: 165px;\\n                      text-align: right;\">color</div>'), ColorPicker(value='#FFFFFF'))), HBox(children=(HTML(value='<div title=\"\" style=\"padding: 5px; width: 165px;\\n                      text-align: right;\">date</div>'), DatePicker(value=datetime.datetime(2017, 1, 1, 0, 0)))), HBox(children=(HTML(value='<div title=\"\" style=\"padding: 5px; width: 165px;\\n                      text-align: right;\">dictionary</div>'), Text(value=\"{'a': 2, 'b': 9}\", continuous_update=False))), HBox(children=(HTML(value='<div title=\"\" style=\"padding: 5px; width: 165px;\\n                      text-align: right;\">float_range</div>'), FloatRangeSlider(value=(0.0, 1.57), continuous_update=False, max=3.145, step=0.0629))), HBox(children=(HTML(value='<div title=\"\" style=\"padding: 5px; width: 165px;\\n                      text-align: right;\">float_with_hard_bounds</div>'), FloatSlider(value=8.2, continuous_update=False, max=10.0, min=7.5))), HBox(children=(HTML(value='<div title=\"\" style=\"padding: 5px; width: 165px;\\n                      text-align: right;\">float_with_soft_bounds</div>'), FloatSlider(value=0.5, continuous_update=False, max=2.0))), HBox(children=(HTML(value='<div title=\"\" style=\"padding: 5px; width: 165px;\\n                      text-align: right;\">integer_range</div>'), IntRangeSlider(value=(3, 7), continuous_update=False, max=10))), HBox(children=(HTML(value='<div title=\"\" style=\"padding: 5px; width: 165px;\\n                      text-align: right;\">num_int</div>'), IntSlider(value=50000, continuous_update=False, max=100000, min=-200))), HBox(children=(HTML(value='<div title=\"\" style=\"padding: 5px; width: 165px;\\n                      text-align: right;\">select_fn</div>'), DropdownWithEdit())), HBox(children=(HTML(value='<div title=\"\" style=\"padding: 5px; width: 165px;\\n                      text-align: right;\">select_string</div>'), DropdownWithEdit())), HBox(children=(HTML(value='<div title=\"A string\" style=\"padding: 5px; width: 165px;\\n                      text-align: right;\">string_value</div>'), Text(value='str', continuous_update=False))), HBox(children=(HTML(value='<div title=\"\" style=\"padding: 5px; width: 165px;\\n                      text-align: right;\">unbounded_int</div>'), IntText(value=23))), HBox(children=(HTML(value='<div title=\"X position\" style=\"padding: 5px; width: 165px;\\n                      text-align: right;\">x</div>'), Text(value='3.14', continuous_update=False))), HBox(children=(HTML(value='<div title=\"\" style=\"padding: 5px; width: 165px;\\n                      text-align: right;\">y</div>'), HTML(value='Not editable'))), HBox(children=(HTML(value='<div title=\"\" style=\"padding: 5px; width: 165px;\\n                      text-align: right;\">int_list</div>'), SelectMultiple(index=(1, 2), options=OrderedDict([('1', 1), ('3', 3), ('5', 5), ('7', 7), ('9', 9)]), value=(3, 5)))), HBox(children=(HTML(value='<div title=\"\" style=\"padding: 5px; width: 165px;\\n                      text-align: right;\">multiple_files</div>'), VBox(children=(Text(value='../*/*.py?'), SelectMultiple(options=OrderedDict(), value=())), layout=Layout(margin='0')))), HBox(children=(HTML(value='<div title=\"\" style=\"padding: 5px; width: 165px;\\n                      text-align: right;\">single_file</div>'), VBox(children=(Text(value='../*/*.py*'), DropdownWithEdit()), layout=Layout(margin='0')))), HBox(children=(HTML(value='<div title=\"Print a message.\" style=\"padding: 5px; width: 165px;\\n                      text-align: right;\"></div>'), Button(description='msg', style=ButtonStyle(), tooltip='Print a message.')))), layout=Layout(display='flex', flex_flow='column'))"
      ]
     },
     "metadata": {},
     "output_type": "display_data"
    },
    {
     "name": "stdout",
     "output_type": "stream",
     "text": [
      "Hello <class '__main__.Example'>\n"
     ]
    }
   ],
   "source": [
    "paramnb.Widgets(Example)"
   ]
  },
  {
   "cell_type": "markdown",
   "metadata": {},
   "source": [
    "## Plot.ly\n",
    "https://plot.ly/"
   ]
  }
 ],
 "metadata": {
  "kernelspec": {
   "display_name": "Python 3",
   "language": "python",
   "name": "python3"
  },
  "language_info": {
   "codemirror_mode": {
    "name": "ipython",
    "version": 3
   },
   "file_extension": ".py",
   "mimetype": "text/x-python",
   "name": "python",
   "nbconvert_exporter": "python",
   "pygments_lexer": "ipython3",
   "version": "3.6.6"
  }
 },
 "nbformat": 4,
 "nbformat_minor": 2
}
