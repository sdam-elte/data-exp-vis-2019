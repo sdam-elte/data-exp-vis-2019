{
 "cells": [
  {
   "cell_type": "markdown",
   "metadata": {},
   "source": [
    "## Create a hosted app\n",
    "\n",
    "* Choose a dataset from \n",
    "* Create 3 plots using either holoviews, or bokeh. Both of them are served by the bokeh server\n",
    "\n",
    "You can use any dataset for this task. Here is a list of some real life data:\n",
    "* https://catalog.data.gov/dataset/demographic-statistics-by-zip-code-acfc9\n",
    "* https://catalog.data.gov/dataset/crimes-2001-to-present-398a4\n",
    "* https://catalog.data.gov/dataset/lottery-mega-millions-winning-numbers-beginning-2002\n",
    "* https://catalog.data.gov/dataset/traffic-violations-56dda\n",
    "\n"
   ]
  },
  {
   "cell_type": "markdown",
   "metadata": {},
   "source": [
    "### How to test the app?\n",
    "\n",
    "* Launch a terminal and enter into the directory, that contains this notebook\n",
    "* then type\n",
    "```\n",
    "preview-bokeh.sh worksheet-hosted-app.ipynb \n",
    "```\n",
    "* the first line of output will tell you the URL of the APP\n",
    "\n",
    "\n",
    "Useful tool in the Holoviews suite: DynamicMap http://holoviews.org/reference/containers/bokeh/DynamicMap.html"
   ]
  },
  {
   "cell_type": "code",
   "execution_count": null,
   "metadata": {},
   "outputs": [],
   "source": []
  }
 ],
 "metadata": {
  "kernelspec": {
   "display_name": "Python 3",
   "language": "python",
   "name": "python3"
  },
  "language_info": {
   "codemirror_mode": {
    "name": "ipython",
    "version": 3
   },
   "file_extension": ".py",
   "mimetype": "text/x-python",
   "name": "python",
   "nbconvert_exporter": "python",
   "pygments_lexer": "ipython3",
   "version": "3.6.6"
  }
 },
 "nbformat": 4,
 "nbformat_minor": 2
}
