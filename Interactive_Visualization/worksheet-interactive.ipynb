{
 "cells": [
  {
   "cell_type": "markdown",
   "metadata": {},
   "source": [
    "## Create an interactive report\n",
    "\n",
    "* Choose a dataset from \n",
    "* Create 3 plots using holoviews, panel or bokeh\n",
    "\n",
    "You can use any dataset for this task. Here is a list of some real life data:\n",
    "* https://catalog.data.gov/dataset/demographic-statistics-by-zip-code-acfc9\n",
    "* https://catalog.data.gov/dataset/crimes-2001-to-present-398a4\n",
    "* https://catalog.data.gov/dataset/lottery-mega-millions-winning-numbers-beginning-2002\n",
    "* https://catalog.data.gov/dataset/traffic-violations-56dda\n",
    "\n",
    "When you finished with the notebook, then convert it to html!\n",
    "\n",
    "` jupyter-nbconvert --execute worksheet-interactive.ipynb\n",
    "`\n",
    "\n",
    "Useful tool in the Holoviews suite: HoloMap http://holoviews.org/reference/containers/bokeh/HoloMap.html"
   ]
  },
  {
   "cell_type": "code",
   "execution_count": null,
   "metadata": {},
   "outputs": [],
   "source": []
  }
 ],
 "metadata": {
  "kernelspec": {
   "display_name": "Python 3",
   "language": "python",
   "name": "python3"
  },
  "language_info": {
   "codemirror_mode": {
    "name": "ipython",
    "version": 3
   },
   "file_extension": ".py",
   "mimetype": "text/x-python",
   "name": "python",
   "nbconvert_exporter": "python",
   "pygments_lexer": "ipython3",
   "version": "3.6.6"
  }
 },
 "nbformat": 4,
 "nbformat_minor": 2
}
