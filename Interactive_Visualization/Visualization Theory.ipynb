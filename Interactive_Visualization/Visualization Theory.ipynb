{
 "cells": [
  {
   "cell_type": "markdown",
   "metadata": {},
   "source": [
    "http://www.haralick.org/DV/Handbook_of_Data_Visualization.pdf\n",
    "\n",
    "A lengthy handbook from the prejupyter era\n",
    "\n",
    "`\n",
    "Preparing graphics is a high level task \n",
    "`"
   ]
  },
  {
   "cell_type": "markdown",
   "metadata": {},
   "source": [
    "### Historical examples\n",
    "\n",
    "https://www.slideshare.net/thompsonkaren/data-visualization-theory-59604862 slide 4\n",
    "\n",
    "\n",
    "### Timeline of data visualization\n",
    "\n",
    "http://datavis.ca/milestones/index.php\n",
    "\n",
    "Up to 2010"
   ]
  },
  {
   "cell_type": "markdown",
   "metadata": {},
   "source": [
    "<img src=\"Timeline-Visualization.png\" width=70%>"
   ]
  },
  {
   "cell_type": "markdown",
   "metadata": {},
   "source": [
    "### Presentation Graphics\n",
    "\n",
    "**It is static**. These displays should be of high quality and include complete definitions and explanations ofthe variablesshown and of the form of the graphic. \n",
    "\n",
    "#### Some rules for preparing\n",
    "http://ling.uni-konstanz.de/pages/home/butt/main/material/lingvis/VisTheory_v1_online.pdf"
   ]
  },
  {
   "cell_type": "markdown",
   "metadata": {},
   "source": [
    "### Exploratory Graphics\n",
    "\n",
    "Fast, dynamic, not necessarily precise, where we are looking for the results"
   ]
  },
  {
   "cell_type": "code",
   "execution_count": null,
   "metadata": {},
   "outputs": [],
   "source": []
  }
 ],
 "metadata": {
  "kernelspec": {
   "display_name": "Python 3",
   "language": "python",
   "name": "python3"
  },
  "language_info": {
   "codemirror_mode": {
    "name": "ipython",
    "version": 3
   },
   "file_extension": ".py",
   "mimetype": "text/x-python",
   "name": "python",
   "nbconvert_exporter": "python",
   "pygments_lexer": "ipython3",
   "version": "3.6.6"
  }
 },
 "nbformat": 4,
 "nbformat_minor": 2
}
