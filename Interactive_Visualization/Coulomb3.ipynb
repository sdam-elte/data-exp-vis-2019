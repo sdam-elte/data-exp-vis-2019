{
 "cells": [
  {
   "cell_type": "markdown",
   "metadata": {
    "extensions": {
     "jupyter_dashboards": {
      "version": 1,
      "views": {
       "grid_default": {
        "col": 2,
        "height": 2,
        "hidden": false,
        "row": 0,
        "width": 9
       },
       "report_default": {}
      }
     }
    }
   },
   "source": [
    "# Töltött részecske elektromos és mágneses térben\n"
   ]
  },
  {
   "cell_type": "code",
   "execution_count": 1,
   "metadata": {
    "ExecuteTime": {
     "end_time": "2019-03-29T06:53:56.726490Z",
     "start_time": "2019-03-29T06:53:55.246383Z"
    },
    "extensions": {
     "jupyter_dashboards": {
      "version": 1,
      "views": {
       "grid_default": {
        "hidden": true
       },
       "report_default": {}
      }
     }
    }
   },
   "outputs": [],
   "source": [
    "import numpy as np\n",
    "import bqplot as bq\n",
    "import ipywidgets as ipw\n"
   ]
  },
  {
   "cell_type": "code",
   "execution_count": 2,
   "metadata": {
    "ExecuteTime": {
     "end_time": "2019-03-29T06:53:56.751317Z",
     "start_time": "2019-03-29T06:53:56.733137Z"
    },
    "extensions": {
     "jupyter_dashboards": {
      "version": 1,
      "views": {
       "grid_default": {
        "hidden": true
       },
       "report_default": {}
      }
     }
    }
   },
   "outputs": [],
   "source": [
    "t=np.linspace(0,40,300)\n",
    "# these are the solution to the diferential equation for a particle moving in\n",
    "# a homogenius electric and magnetic field, provided the fields are perpendicular \n",
    "# and the particle moves in the plane perpendicular to B\n",
    "\n",
    "def solution(Ex=0,Ey=1,B=1,v0x=0,v0y=1):\n",
    "    'this is the position'\n",
    "    return [Ex*(1-np.cos(B*t))/B**2+Ey*(t/B-np.sin(B*t)/B**2)+v0x*np.sin(B*t)/B+v0y*(1-np.cos(B*t))/B,\n",
    "            Ey*(1-np.cos(B*t))/B**2-Ex*(t/B-np.sin(B*t)/B**2)+v0y*np.sin(B*t)/B-v0x*(1-np.cos(B*t))/B]\n",
    "\n",
    "def sol_vt(t,Ex=0,Ey=1,B=1,v0x=0,v0y=1):\n",
    "    'this is the velocity'\n",
    "    return [Ey*(-np.cos(B*t)/B + 1/B) + v0x*np.cos(B*t) + v0y*np.sin(B*t) + Ex*np.sin(B*t)/B,\n",
    "            -Ex*(-np.cos(B*t)/B + 1/B) - v0x*np.sin(B*t) + v0y*np.cos(B*t) + Ey*np.sin(B*t)/B]\n",
    "\n",
    "def sol_at(t,Ex=0,Ey=1,B=1,v0x=0,v0y=1):\n",
    "    'this is the acceleration'\n",
    "    return [-B*v0x*np.sin(B*t) + B*v0y*np.cos(B*t) + Ex*np.cos(B*t) + Ey*np.sin(B*t),\n",
    "            -B*v0x*np.cos(B*t) - B*v0y*np.sin(B*t) - Ex*np.sin(B*t) + Ey*np.cos(B*t)]\n"
   ]
  },
  {
   "cell_type": "code",
   "execution_count": 3,
   "metadata": {
    "ExecuteTime": {
     "end_time": "2019-03-29T06:53:57.052584Z",
     "start_time": "2019-03-29T06:53:56.756069Z"
    },
    "extensions": {
     "jupyter_dashboards": {
      "version": 1,
      "views": {
       "grid_default": {
        "hidden": true
       },
       "report_default": {}
      }
     }
    }
   },
   "outputs": [],
   "source": [
    "# in this cell we define the figure representing the real space orbit of the particle\n",
    "orbit_x,orbit_y=solution(v0x=0,v0y=1)# the initial path of the particle\n",
    "v_x,v_y=sol_vt(0,v0x=0,v0y=1)# the velocity  of the particle\n",
    "a_x,a_y=sol_at(0,v0x=0,v0y=1)# the acceleration of the particle\n",
    "\n",
    "sc=bq.LinearScale(min=-5,max=5)# definition of the scale for plotting\n",
    "orb=bq.Lines(x=orbit_x,y=orbit_y,scales=dict(x=sc,y=sc)) # this object represents the orbit of the particle\n",
    "\n",
    "# the three objects below constitute the direction picker of the initial velocity\n",
    "v0ept=bq.Scatter(x=[0],y=[1],rotation=[0],colors=['Cyan'],marker='triangle-up',\n",
    "                 scales=dict(x=sc,y=sc,rotation=bq.LinearScale(min=0,max=180))) #the arrow marker at the end\n",
    "v0li=bq.Lines(x=[0,0],y=[0,1],colors=['Cyan'],scales=dict(x=sc,y=sc)) # the line body of the arrow\n",
    "# this object is used for tracking interactions\n",
    "v0eptp=bq.Scatter(x=[0],y=[1],rotation=[0],colors=['Cyan'],\n",
    "                 enable_move=True,\n",
    "                 scales=dict(x=sc,y=sc,\n",
    "                             opacity=bq.LinearScale(min=0,max=1),\n",
    "                             size=bq.LinearScale(min=0,max=1)),\n",
    "                 opacity=[0.0],size=[.1])\n",
    "\n",
    "# these objects track the position velocity and acceleration of a single particle\n",
    "posi=bq.Scatter(x=[orbit_x[0]],y=[orbit_y[0]],scales=dict(x=sc,y=sc),colors=['Red'],marker='circle') # marker for the position\n",
    "\n",
    "vept=bq.Scatter(x=[posi.x[0]+v_x],y=[posi.y[0]+v_y],rotation=[0],colors=['Red'],marker='triangle-up',       # marker for velocity\n",
    "                 scales=dict(x=sc,y=sc,rotation=bq.LinearScale(min=0,max=180)))                             # the arrow marker at the end\n",
    "vli=bq.Lines(x=[posi.x[0],posi.x[0]+v_x],y=[posi.y[0],posi.y[0]+v_y],colors=['Red'],scales=dict(x=sc,y=sc)) # the line body of the arrow\n",
    "\n",
    "\n",
    "aept=bq.Scatter(x=[posi.x[0]+a_x],y=[posi.y[0]+a_y],rotation=[np.arctan2(a_x,a_y)/np.pi*180],colors=['DarkGreen'],marker='triangle-up',       # marker for acceleration\n",
    "                 scales=dict(x=sc,y=sc,rotation=bq.LinearScale(min=0,max=180)))                                   # the arrow marker at the end\n",
    "ali=bq.Lines(x=[posi.x[0],posi.x[0]+a_x],y=[posi.y[0],posi.y[0]+a_y],colors=['DarkGreen'],scales=dict(x=sc,y=sc)) # the line body of the arrow\n",
    "\n",
    "# some label text\n",
    "v0label=bq.Label(text=['kezdő sebesség'],x=[-4.5],y=[-4],scales=dict(x=sc,y=sc),colors=['Cyan'])\n",
    "vlabel=bq.Label(text=['sebesség'],x=[-4.5],y=[-4.3],scales=dict(x=sc,y=sc),colors=['Red'])\n",
    "alabel=bq.Label(text=['gyorsulás'],x=[-4.5],y=[-4.6],scales=dict(x=sc,y=sc),colors=['DarkGreen'])\n",
    "# composing the above objects we create the figure \n",
    "orb_fig=bq.Figure(marks  = [orb,posi,vli,vept,ali,aept,v0li,v0ept,v0eptp,v0label,vlabel,alabel],\n",
    "                  layout = dict(width='600px',height='600px'))\n"
   ]
  },
  {
   "cell_type": "code",
   "execution_count": 4,
   "metadata": {
    "ExecuteTime": {
     "end_time": "2019-03-29T06:53:57.118514Z",
     "start_time": "2019-03-29T06:53:57.056208Z"
    },
    "extensions": {
     "jupyter_dashboards": {
      "version": 1,
      "views": {
       "grid_default": {
        "hidden": true
       },
       "report_default": {}
      }
     }
    }
   },
   "outputs": [],
   "source": [
    "# in this cell we define the direction picker for the external electric field\n",
    "sc=bq.LinearScale(min=-1,max=1);scdict=dict(x=sc,y=sc) # definition of the scale for plotting\n",
    "\n",
    "li=bq.Lines(x=[0,0],y=[0,1],colors=['DarkCyan'],scales=scdict) # the line body of the arrow\n",
    "endpt=bq.Scatter(x=[0],y=[1],rotation=[0],colors=['DarkCyan'],marker='triangle-up',\n",
    "                 scales=dict(x=sc,y=sc,rotation=bq.LinearScale(min=0,max=180))) #the arrow marker at the end\n",
    "# this object is used for tracking interactions\n",
    "endptp=bq.Scatter(x=[0],y=[1],colors=['DarkCyan'],\n",
    "                 enable_move=True,\n",
    "                  scales=dict(x=sc,y=sc,opacity=bq.LinearScale(min=0,max=1),size=bq.LinearScale(min=0,max=1)),\n",
    "                  opacity=[0.0],size=[.1])\n",
    "# thhe object below is just to write a text\n",
    "titletext=bq.Label(text=['E tér iránya és nagysága'],x=[-0.8],y=[-0.8],scales=scdict,colors=['DarkCyan'])\n",
    "#composing the above objects we create the figure \n",
    "Eter=bq.Figure(marks=[endpt,li,endptp,titletext],layout=dict(width='400px',height='400px'))"
   ]
  },
  {
   "cell_type": "code",
   "execution_count": 5,
   "metadata": {
    "ExecuteTime": {
     "end_time": "2019-03-29T06:53:57.192047Z",
     "start_time": "2019-03-29T06:53:57.123912Z"
    },
    "extensions": {
     "jupyter_dashboards": {
      "version": 1,
      "views": {
       "grid_default": {
        "hidden": true
       },
       "report_default": {}
      }
     }
    }
   },
   "outputs": [],
   "source": [
    "# This slider serves as an input for the magnetic field\n",
    "Brule=ipw.FloatSlider(min=-2,max=2,value=1,step=0.012,orientation='horizontal',description='B tér')\n",
    "# This slider serves as an input for the magnetic field\n",
    "trule=ipw.IntSlider(min=0,max=len(t)-1,value=0,orientation='horizontal',description='t',readout=False)\n",
    "\n",
    "# These buttons toggle the electric field and initial velocity\n",
    "extra_buttons=ipw.HBox([ipw.ToggleButton(value=True,description='E tér',button_style='info'),\n",
    "                        ipw.ToggleButton(value=True,description='kezdő sebesség',button_style='info', layout=ipw.Layout(width='50%'))])\n"
   ]
  },
  {
   "cell_type": "code",
   "execution_count": 6,
   "metadata": {
    "ExecuteTime": {
     "end_time": "2019-03-29T06:53:57.309267Z",
     "start_time": "2019-03-29T06:53:57.196612Z"
    },
    "extensions": {
     "jupyter_dashboards": {
      "version": 1,
      "views": {
       "grid_default": {
        "hidden": true
       },
       "report_default": {}
      }
     }
    }
   },
   "outputs": [],
   "source": [
    "# This cell conncts the electric field input to the particle orbit\n",
    "def call_back_E(name, value):\n",
    "    if value['point']:\n",
    "        E_is_0=float(extra_buttons.children[0].value)\n",
    "        v0_is_0=float(extra_buttons.children[1].value)\n",
    "        X=value['point']['x']\n",
    "        Y=value['point']['y']\n",
    "        li.x=[0,X]\n",
    "        li.y=[0,Y]\n",
    "        endpt.x=[X]\n",
    "        endpt.y=[Y]\n",
    "        endpt.rotation=[np.arctan2(X,Y)/np.pi*180]\n",
    "        v0x,v0y=v0ept.x[0],v0ept.y[0]\n",
    "        orbit_x,orbit_y=solution(Ex=E_is_0*X,Ey=E_is_0*Y,\n",
    "                                 B=Brule.value,\n",
    "                                 v0x=v0_is_0*v0x,v0y=v0_is_0*v0y)\n",
    "        orb.x=orbit_x\n",
    "        orb.y=orbit_y\n",
    "        rx,ry=orbit_x[trule.value],orbit_y[trule.value]\n",
    "        rt=t[trule.value]\n",
    "        vx,vy=sol_vt(rt,Ex=E_is_0*X,Ey=E_is_0*Y,\n",
    "                                 B=Brule.value,\n",
    "                                 v0x=v0_is_0*v0x,v0y=v0_is_0*v0y)\n",
    "        ax,ay=sol_at(rt,Ex=E_is_0*X,Ey=E_is_0*Y,\n",
    "                                 B=Brule.value,\n",
    "                                 v0x=v0_is_0*v0x,v0y=v0_is_0*v0y)\n",
    "        \n",
    "        posi.x=[rx]\n",
    "        posi.y=[ry]\n",
    "        \n",
    "        vli.x=[rx,rx+vx]\n",
    "        vli.y=[ry,ry+vy]\n",
    "        vept.x=[rx+vx]\n",
    "        vept.y=[ry+vy]\n",
    "        vept.rotation=[np.arctan2(vx,vy)/np.pi*180] \n",
    "\n",
    "        ali.x=[rx,rx+ax]\n",
    "        ali.y=[ry,ry+ay]\n",
    "        aept.x=[rx+ax]\n",
    "        aept.y=[ry+ay]\n",
    "        aept.rotation=[np.arctan2(ax,ay)/np.pi*180] \n",
    "\n",
    "        \n",
    "        \n",
    "endptp.on_drag(call_back_E)\n",
    "endptp.on_drag_end(call_back_E)"
   ]
  },
  {
   "cell_type": "code",
   "execution_count": 7,
   "metadata": {
    "ExecuteTime": {
     "end_time": "2019-03-29T06:53:57.401179Z",
     "start_time": "2019-03-29T06:53:57.313679Z"
    },
    "extensions": {
     "jupyter_dashboards": {
      "version": 1,
      "views": {
       "grid_default": {
        "hidden": true
       },
       "report_default": {}
      }
     }
    }
   },
   "outputs": [],
   "source": [
    "# This cell conncts the initial velocity input to the particle orbit\n",
    "def call_back_v0(name, value):\n",
    "    if value['point']:\n",
    "        E_is_0=float(extra_buttons.children[0].value)\n",
    "        v0_is_0=float(extra_buttons.children[1].value)\n",
    "        X=value['point']['x']\n",
    "        Y=value['point']['y']\n",
    "        v0li.x=[0,X]\n",
    "        v0li.y=[0,Y]\n",
    "        v0ept.x=[X]\n",
    "        v0ept.y=[Y]\n",
    "        v0ept.rotation=[np.arctan2(X,Y)/np.pi*180] \n",
    "        Ex,Ey=endpt.x[0],endpt.y[0]\n",
    "        orbit_x,orbit_y=solution(Ex=E_is_0*Ex,Ey=E_is_0*Ey,\n",
    "                                 B=Brule.value,\n",
    "                                 v0x=v0_is_0*X,v0y=v0_is_0*Y)\n",
    "        orb.x=orbit_x\n",
    "        orb.y=orbit_y\n",
    "        rx,ry=orbit_x[trule.value],orbit_y[trule.value]\n",
    "        rt=t[trule.value]\n",
    "        vx,vy=sol_vt(rt,Ex=E_is_0*Ex,Ey=E_is_0*Ey,\n",
    "                                 B=Brule.value,\n",
    "                                 v0x=v0_is_0*X,v0y=v0_is_0*Y)\n",
    "        ax,ay=sol_at(rt,Ex=E_is_0*Ex,Ey=E_is_0*Ey,\n",
    "                                 B=Brule.value,\n",
    "                                 v0x=v0_is_0*X,v0y=v0_is_0*Y)\n",
    "        \n",
    "        posi.x=[rx]\n",
    "        posi.y=[ry]\n",
    "        \n",
    "        vli.x=[rx,rx+vx]\n",
    "        vli.y=[ry,ry+vy]\n",
    "        vept.x=[rx+vx]\n",
    "        vept.y=[ry+vy]\n",
    "        vept.rotation=[np.arctan2(vx,vy)/np.pi*180] \n",
    "\n",
    "        ali.x=[rx,rx+ax]\n",
    "        ali.y=[ry,ry+ay]\n",
    "        aept.x=[rx+ax]\n",
    "        aept.y=[ry+ay]\n",
    "        aept.rotation=[np.arctan2(ax,ay)/np.pi*180] \n",
    "        \n",
    "        \n",
    "v0eptp.on_drag(call_back_v0)\n",
    "v0eptp.on_drag_end(call_back_v0)"
   ]
  },
  {
   "cell_type": "code",
   "execution_count": 8,
   "metadata": {
    "ExecuteTime": {
     "end_time": "2019-03-29T06:53:57.470821Z",
     "start_time": "2019-03-29T06:53:57.405875Z"
    },
    "extensions": {
     "jupyter_dashboards": {
      "version": 1,
      "views": {
       "grid_default": {
        "hidden": true
       },
       "report_default": {}
      }
     }
    }
   },
   "outputs": [],
   "source": [
    "# interaction definitions upon changing the magnetic field\n",
    "def handle_Bslider_change(change):\n",
    "        E_is_0=float(extra_buttons.children[0].value)\n",
    "        v0_is_0=float(extra_buttons.children[1].value)\n",
    "        orbit_x,orbit_y=solution(Ex=E_is_0*endpt.x[0],Ey=E_is_0*endpt.y[0],\n",
    "                                 B=change.new,\n",
    "                                 v0x=v0_is_0*v0ept.x[0],\n",
    "                                 v0y=v0_is_0*v0ept.y[0])\n",
    "        orb.x=orbit_x\n",
    "        orb.y=orbit_y\n",
    "        rx,ry=orbit_x[trule.value],orbit_y[trule.value]\n",
    "        rt=t[trule.value]\n",
    "        vx,vy=sol_vt(rt,Ex=E_is_0*endpt.x[0],Ey=E_is_0*endpt.y[0],\n",
    "                                 B=change.new,\n",
    "                                 v0x=v0_is_0*v0ept.x[0],\n",
    "                                 v0y=v0_is_0*v0ept.y[0])\n",
    "        ax,ay=sol_at(rt,Ex=E_is_0*endpt.x[0],Ey=E_is_0*endpt.y[0],\n",
    "                                 B=change.new,\n",
    "                                 v0x=v0_is_0*v0ept.x[0],\n",
    "                                 v0y=v0_is_0*v0ept.y[0])\n",
    "        \n",
    "\n",
    "        posi.x=[rx]\n",
    "        posi.y=[ry]\n",
    "        \n",
    "        vli.x=[rx,rx+vx]\n",
    "        vli.y=[ry,ry+vy]\n",
    "        vept.x=[rx+vx]\n",
    "        vept.y=[ry+vy]\n",
    "        vept.rotation=[np.arctan2(vx,vy)/np.pi*180] \n",
    "\n",
    "        ali.x=[rx,rx+ax]\n",
    "        ali.y=[ry,ry+ay]\n",
    "        aept.x=[rx+ax]\n",
    "        aept.y=[ry+ay]\n",
    "        aept.rotation=[np.arctan2(ax,ay)/np.pi*180] \n",
    "        \n",
    "# enableing hooks for the slider \n",
    "Brule.observe(handle_Bslider_change, names='value')\n",
    "\n",
    "# interaction definitions upon changing time\n",
    "def handle_tslider_change(change):\n",
    "        E_is_0=float(extra_buttons.children[0].value) \n",
    "        v0_is_0=float(extra_buttons.children[1].value)\n",
    "        orbit_x,orbit_y=solution(Ex=E_is_0*endpt.x[0],Ey=E_is_0*endpt.y[0],\n",
    "                                 B=Brule.value,\n",
    "                                 v0x=v0_is_0*v0ept.x[0],\n",
    "                                 v0y=v0_is_0*v0ept.y[0])\n",
    "        orb.x=orbit_x\n",
    "        orb.y=orbit_y\n",
    "        rx,ry=orbit_x[change.new],orbit_y[change.new]\n",
    "        rt=t[change.new]\n",
    "        vx,vy=sol_vt(rt,Ex=E_is_0*endpt.x[0],Ey=E_is_0*endpt.y[0],\n",
    "                                 B=Brule.value,\n",
    "                                 v0x=v0_is_0*v0ept.x[0],\n",
    "                                 v0y=v0_is_0*v0ept.y[0])\n",
    "        ax,ay=sol_at(rt,Ex=E_is_0*endpt.x[0],Ey=E_is_0*endpt.y[0],\n",
    "                                 B=Brule.value,\n",
    "                                 v0x=v0_is_0*v0ept.x[0],\n",
    "                                 v0y=v0_is_0*v0ept.y[0])\n",
    "        \n",
    "\n",
    "        posi.x=[rx]\n",
    "        posi.y=[ry]\n",
    "        \n",
    "        vli.x=[rx,rx+vx]\n",
    "        vli.y=[ry,ry+vy]\n",
    "        vept.x=[rx+vx]\n",
    "        vept.y=[ry+vy]\n",
    "        vept.rotation=[np.arctan2(vx,vy)/np.pi*180] \n",
    "\n",
    "        ali.x=[rx,rx+ax]\n",
    "        ali.y=[ry,ry+ay]\n",
    "        aept.x=[rx+ax]\n",
    "        aept.y=[ry+ay]\n",
    "        aept.rotation=[np.arctan2(ax,ay)/np.pi*180] \n",
    "\n",
    "        \n",
    "# enableing hooks for the slider \n",
    "trule.observe(handle_tslider_change, names='value')\n",
    "# interaction definitions upon toggling the electric field\n",
    "def handle_Etog(change):\n",
    "        E_is_0=float(change.new)\n",
    "        v0_is_0=float(extra_buttons.children[1].value)\n",
    "        orbit_x,orbit_y=solution(Ex=E_is_0*endpt.x[0],Ey=E_is_0*endpt.y[0],\n",
    "                                 B=Brule.value,\n",
    "                                 v0x=v0_is_0*v0ept.x[0],\n",
    "                                 v0y=v0_is_0*v0ept.y[0])\n",
    "        orb.x=orbit_x\n",
    "        orb.y=orbit_y\n",
    "        rx,ry=orbit_x[trule.value],orbit_y[trule.value]\n",
    "        rt=t[trule.value]\n",
    "        vx,vy=sol_vt(rt,Ex=E_is_0*endpt.x[0],Ey=E_is_0*endpt.y[0],\n",
    "                                 B=Brule.value,\n",
    "                                 v0x=v0_is_0*v0ept.x[0],\n",
    "                                 v0y=v0_is_0*v0ept.y[0])\n",
    "        ax,ay=sol_at(rt,Ex=E_is_0*endpt.x[0],Ey=E_is_0*endpt.y[0],\n",
    "                                 B=Brule.value,\n",
    "                                 v0x=v0_is_0*v0ept.x[0],\n",
    "                                 v0y=v0_is_0*v0ept.y[0])\n",
    "        \n",
    "\n",
    "        posi.x=[rx]\n",
    "        posi.y=[ry]\n",
    "        \n",
    "        vli.x=[rx,rx+vx]\n",
    "        vli.y=[ry,ry+vy]\n",
    "        vept.x=[rx+vx]\n",
    "        vept.y=[ry+vy]\n",
    "        vept.rotation=[np.arctan2(vx,vy)/np.pi*180] \n",
    "\n",
    "        ali.x=[rx,rx+ax]\n",
    "        ali.y=[ry,ry+ay]\n",
    "        aept.x=[rx+ax]\n",
    "        aept.y=[ry+ay]\n",
    "        aept.rotation=[np.arctan2(ax,ay)/np.pi*180] \n",
    "\n",
    "        endpt.visible=change.new\n",
    "        endptp.visible=change.new\n",
    "        li.visible=change.new\n",
    "        titletext.visible=change.new\n",
    "        \n",
    "        if not(change.new):\n",
    "            extra_buttons.children[0].description='E tér nincs'\n",
    "            extra_buttons.children[0].button_style=''\n",
    "        else:\n",
    "            extra_buttons.children[0].description='E tér'\n",
    "            extra_buttons.children[0].button_style='info'\n",
    "# enableing hooks for the button\n",
    "extra_buttons.children[0].observe(handle_Etog,names='value')\n",
    "# interaction definitions upon toggling the initial velocity\n",
    "def handle_v0tog(change):\n",
    "        E_is_0=float(extra_buttons.children[0].value)\n",
    "        v0_is_0=float(change.new)\n",
    "        orbit_x,orbit_y=solution(Ex=E_is_0*endpt.x[0],Ey=E_is_0*endpt.y[0],\n",
    "                                 B=Brule.value,\n",
    "                                 v0x=v0_is_0*v0ept.x[0],\n",
    "                                 v0y=v0_is_0*v0ept.y[0])\n",
    "        orb.x=orbit_x\n",
    "        orb.y=orbit_y\n",
    "        rx,ry=orbit_x[trule.value],orbit_y[trule.value]\n",
    "        rt=t[trule.value]\n",
    "        vx,vy=sol_vt(rt,Ex=E_is_0*endpt.x[0],Ey=E_is_0*endpt.y[0],\n",
    "                                 B=Brule.value,\n",
    "                                 v0x=v0_is_0*v0ept.x[0],\n",
    "                                 v0y=v0_is_0*v0ept.y[0])\n",
    "        ax,ay=sol_at(rt,Ex=E_is_0*endpt.x[0],Ey=E_is_0*endpt.y[0],\n",
    "                                 B=Brule.value,\n",
    "                                 v0x=v0_is_0*v0ept.x[0],\n",
    "                                 v0y=v0_is_0*v0ept.y[0])\n",
    "        \n",
    "\n",
    "        posi.x=[rx]\n",
    "        posi.y=[ry]\n",
    "        \n",
    "        vli.x=[rx,rx+vx]\n",
    "        vli.y=[ry,ry+vy]\n",
    "        vept.x=[rx+vx]\n",
    "        vept.y=[ry+vy]\n",
    "        vept.rotation=[np.arctan2(vx,vy)/np.pi*180] \n",
    "\n",
    "        ali.x=[rx,rx+ax]\n",
    "        ali.y=[ry,ry+ay]\n",
    "        aept.x=[rx+ax]\n",
    "        aept.y=[ry+ay]\n",
    "        aept.rotation=[np.arctan2(ax,ay)/np.pi*180] \n",
    "\n",
    "        v0ept.visible=change.new\n",
    "        v0eptp.visible=change.new\n",
    "        v0li.visible=change.new\n",
    "        v0label.visible=change.new\n",
    "        if not(change.new):\n",
    "            extra_buttons.children[1].description='kezdő sebesség nincs'\n",
    "            extra_buttons.children[1].button_style=''\n",
    "        else:\n",
    "            extra_buttons.children[1].description='kezdő sebesség'\n",
    "            extra_buttons.children[1].button_style='info'        \n",
    "# enableing hooks for the button\n",
    "extra_buttons.children[1].observe(handle_v0tog,names='value')"
   ]
  },
  {
   "cell_type": "code",
   "execution_count": 9,
   "metadata": {
    "ExecuteTime": {
     "end_time": "2019-03-29T06:53:57.633793Z",
     "start_time": "2019-03-29T06:53:57.474345Z"
    },
    "extensions": {
     "jupyter_dashboards": {
      "version": 1,
      "views": {
       "grid_default": {
        "col": 0,
        "height": 19,
        "hidden": false,
        "row": 2,
        "width": null
       },
       "report_default": {}
      }
     }
    },
    "scrolled": false
   },
   "outputs": [
    {
     "data": {
      "application/vnd.jupyter.widget-view+json": {
       "model_id": "659a0101f0a3425eb7128e2780dd443c",
       "version_major": 2,
       "version_minor": 0
      },
      "text/html": [
       "<p>Failed to display Jupyter Widget of type <code>HBox</code>.</p>\n",
       "<p>\n",
       "  If you're reading this message in the Jupyter Notebook or JupyterLab Notebook, it may mean\n",
       "  that the widgets JavaScript is still loading. If this message persists, it\n",
       "  likely means that the widgets JavaScript library is either not installed or\n",
       "  not enabled. See the <a href=\"https://ipywidgets.readthedocs.io/en/stable/user_install.html\">Jupyter\n",
       "  Widgets Documentation</a> for setup instructions.\n",
       "</p>\n",
       "<p>\n",
       "  If you're reading this message in another frontend (for example, a static\n",
       "  rendering on GitHub or <a href=\"https://nbviewer.jupyter.org/\">NBViewer</a>),\n",
       "  it may mean that your frontend doesn't currently support widgets.\n",
       "</p>\n"
      ],
      "text/plain": [
       "HBox(children=(Figure(fig_margin={'top': 60, 'bottom': 60, 'left': 60, 'right': 60}, layout=Layout(height='600px', width='600px'), marks=[Lines(colors=['#1f77b4', '#ff7f0e', '#2ca02c', '#d62728', '#9467bd', '#8c564b', '#e377c2', '#7f7f7f', '#bcbd22', '#17becf'], interactions={'hover': 'tooltip'}, scales={'x': LinearScale(max=5.0, min=-5.0), 'y': LinearScale(max=5.0, min=-5.0)}, scales_metadata={'x': {'orientation': 'horizontal', 'dimension': 'x'}, 'y': {'orientation': 'vertical', 'dimension': 'y'}, 'color': {'dimension': 'color'}}, tooltip_style={'opacity': 0.9}, x=array([0.00000000e+00, 9.33378985e-03, 3.87616631e-02, 9.01484016e-02,\n",
       "       1.64966378e-01, 2.64269242e-01, 3.88673096e-01, 5.38345479e-01,\n",
       "       7.13002379e-01, 9.11913302e-01, 1.13391433e+00, 1.37742893e+00,\n",
       "       1.64049610e+00, 1.92080543e+00, 2.21573841e+00, 2.52241519e+00,\n",
       "       2.83774604e+00, 3.15848660e+00, 3.48129583e+00, 3.80279573e+00,\n",
       "       4.11963169e+00, 4.42853244e+00, 4.72636853e+00, 5.01020822e+00,\n",
       "       5.27736990e+00, 5.52547001e+00, 5.75246560e+00, 5.95669087e+00,\n",
       "       6.13688695e+00, 6.29222435e+00, 6.42231782e+00, 6.52723323e+00,\n",
       "       6.60748639e+00, 6.66403381e+00, 6.69825565e+00, 6.71193101e+00,\n",
       "       6.70720619e+00, 6.68655628e+00, 6.65274096e+00, 6.60875518e+00,\n",
       "       6.55777565e+00, 6.50310403e+00, 6.44810800e+00, 6.39616101e+00,\n",
       "       6.35058201e+00, 6.31457620e+00, 6.29117765e+00, 6.28319518e+00,\n",
       "       6.29316209e+00, 6.32329094e+00, 6.37543399e+00, 6.45105008e+00,\n",
       "       6.55117862e+00, 6.67642094e+00, 6.82692960e+00, 7.00240564e+00,\n",
       "       7.20210394e+00, 7.42484651e+00, 7.66904355e+00, 7.93272187e+00,\n",
       "       8.21356015e+00, 8.50893041e+00, 8.81594499e+00, 9.13150814e+00,\n",
       "       9.45237133e+00, 9.77519134e+00, 1.00965900e+01, 1.04132144e+01,\n",
       "       1.07217972e+01, 1.10192145e+01, 1.13025422e+01, 1.15691077e+01,\n",
       "       1.18165381e+01, 1.20428025e+01, 1.22462482e+01, 1.24256301e+01,\n",
       "       1.25801333e+01, 1.27093876e+01, 1.28134737e+01, 1.28929223e+01,\n",
       "       1.29487044e+01, 1.29822136e+01, 1.29952419e+01, 1.29899471e+01,\n",
       "       1.29688145e+01, 1.29346124e+01, 1.28903427e+01, 1.28391872e+01,\n",
       "       1.27844505e+01, 1.27295017e+01, 1.26777133e+01, 1.26324014e+01,\n",
       "       1.25967664e+01, 1.25738359e+01, 1.25664102e+01, 1.25770126e+01,\n",
       "       1.26078445e+01, 1.26607455e+01, 1.27371608e+01, 1.28381157e+01,\n",
       "       1.29641966e+01, 1.31155413e+01, 1.32918356e+01, 1.34923200e+01,\n",
       "       1.37158024e+01, 1.39606797e+01, 1.42249666e+01, 1.45063309e+01,\n",
       "       1.48021353e+01, 1.51094842e+01, 1.54252761e+01, 1.57462582e+01,\n",
       "       1.60690853e+01, 1.63903789e+01, 1.67067883e+01, 1.70150496e+01,\n",
       "       1.73120450e+01, 1.75948577e+01, 1.78608244e+01, 1.81075829e+01,\n",
       "       1.83331143e+01, 1.85357789e+01, 1.87143457e+01, 1.88680144e+01,\n",
       "       1.89964296e+01, 1.90996870e+01, 1.91783322e+01, 1.92333503e+01,\n",
       "       1.92661489e+01, 1.92785326e+01, 1.92726706e+01, 1.92510583e+01,\n",
       "       1.92164728e+01, 1.91719227e+01, 1.91205947e+01, 1.90657968e+01,\n",
       "       1.90108989e+01, 1.89592727e+01, 1.89142315e+01, 1.88789707e+01,\n",
       "       1.88565112e+01, 1.88496450e+01, 1.88608855e+01, 1.88924224e+01,\n",
       "       1.89460829e+01, 1.90232986e+01, 1.91250805e+01, 1.92520002e+01,\n",
       "       1.94041804e+01, 1.95812923e+01, 1.97825614e+01, 2.00067818e+01,\n",
       "       2.02523372e+01, 2.05172301e+01, 2.07991176e+01, 2.10953528e+01,\n",
       "       2.14030328e+01, 2.17190498e+01, 2.20401471e+01, 2.23629775e+01,\n",
       "       2.26841625e+01, 2.30003531e+01, 2.33082896e+01, 2.36048598e+01,\n",
       "       2.38871546e+01, 2.41525199e+01, 2.43986043e+01, 2.46234008e+01,\n",
       "       2.48252830e+01, 2.50030339e+01, 2.51558677e+01, 2.52834438e+01,\n",
       "       2.53858732e+01, 2.54637159e+01, 2.55179718e+01, 2.55500618e+01,\n",
       "       2.55618031e+01, 2.55553766e+01, 2.55332879e+01, 2.54983222e+01,\n",
       "       2.54534951e+01, 2.54019984e+01, 2.53471430e+01, 2.52922998e+01,\n",
       "       2.52408394e+01, 2.51960723e+01, 2.51611891e+01, 2.51392038e+01,\n",
       "       2.51328999e+01, 2.51447807e+01, 2.51770247e+01, 2.52314463e+01,\n",
       "       2.53094636e+01, 2.54120730e+01, 2.55398317e+01, 2.56928471e+01,\n",
       "       2.58707756e+01, 2.60728282e+01, 2.62977848e+01, 2.65440160e+01,\n",
       "       2.68095124e+01, 2.70919201e+01, 2.73885830e+01, 2.76965905e+01,\n",
       "       2.80128290e+01, 2.83340380e+01, 2.86568680e+01, 2.89779406e+01,\n",
       "       2.92939089e+01, 2.96015171e+01, 2.98976589e+01, 3.01794328e+01,\n",
       "       3.04441941e+01, 3.06896021e+01, 3.09136621e+01, 3.11147606e+01,\n",
       "       3.12916946e+01, 3.14436931e+01, 3.15704303e+01, 3.16720322e+01,\n",
       "       3.17490737e+01, 3.18025688e+01, 3.18339521e+01, 3.18450536e+01,\n",
       "       3.18380654e+01, 3.18155032e+01, 3.17801607e+01, 3.17350603e+01,\n",
       "       3.16833985e+01, 3.16284892e+01, 3.15737043e+01, 3.15224135e+01,\n",
       "       3.14779241e+01, 3.14434217e+01, 3.14219136e+01, 3.14161748e+01,\n",
       "       3.14286985e+01, 3.14616515e+01, 3.15168357e+01, 3.15956556e+01,\n",
       "       3.16990933e+01, 3.18276910e+01, 3.19815413e+01, 3.21602856e+01,\n",
       "       3.23631202e+01, 3.25888112e+01, 3.28357161e+01, 3.31018133e+01,\n",
       "       3.33847383e+01, 3.36818258e+01, 3.39901574e+01, 3.43066138e+01,\n",
       "       3.46279306e+01, 3.49507565e+01, 3.52717130e+01, 3.55874554e+01,\n",
       "       3.58947319e+01, 3.61904421e+01, 3.64716922e+01, 3.67358470e+01,\n",
       "       3.69805764e+01, 3.72038980e+01, 3.74042114e+01, 3.75803278e+01,\n",
       "       3.77314906e+01, 3.78573891e+01, 3.79581641e+01, 3.80344055e+01,\n",
       "       3.80871414e+01, 3.81178201e+01, 3.81282841e+01, 3.81207370e+01,\n",
       "       3.80977044e+01, 3.80619884e+01, 3.80166181e+01, 3.79647949e+01,\n",
       "       3.79098355e+01, 3.78551127e+01, 3.78039951e+01, 3.77597869e+01,\n",
       "       3.77256687e+01, 3.77046408e+01, 3.76994698e+01, 3.77126387e+01,\n",
       "       3.77463028e+01, 3.78022512e+01, 3.78818748e+01, 3.79861413e+01,\n",
       "       3.81155782e+01, 3.82702630e+01, 3.84498221e+01, 3.86534375e+01,\n",
       "       3.88798611e+01, 3.91274374e+01, 3.93941329e+01, 3.96775722e+01,\n",
       "       3.99750809e+01, 4.02837332e+01, 4.06004039e+01, 4.09218249e+01]), y=array([ 0.        ,  0.14231569,  0.29995838,  0.47011097,  0.64973279,\n",
       "        0.83561396,  1.02443275,  1.21281491,  1.39739403,  1.57487163,\n",
       "        1.74207615,  1.89601961,  2.03395101,  2.15340548,  2.25224834,\n",
       "        2.32871325,  2.38143378,  2.40946778,  2.41231429,  2.38992243,\n",
       "        2.34269237,  2.2714681 ,  2.17752242,  2.06253416,  1.92855819,\n",
       "        1.77798868,  1.61351635,  1.43808034,  1.25481575,  1.06699754,\n",
       "        0.87798207,  0.69114709,  0.50983138,  0.33727509,  0.17656183,\n",
       "        0.0305636 , -0.0981106 , -0.20716133, -0.29463982, -0.35898282,\n",
       "       -0.39904051, -0.41409704, -0.40388334, -0.36858195, -0.30882371,\n",
       "       -0.2256765 , -0.12062619,  0.00444995,  0.14731679,  0.30542126,\n",
       "        0.475938  ,  0.65581985,  0.84185226,  1.03071082,  1.21902056,\n",
       "        1.40341636,  1.58060302,  1.74741417,  1.90086888,  2.03822487,\n",
       "        2.15702755,  2.2551539 ,  2.33085038,  2.38276427,  2.40996787,\n",
       "        2.41197504,  2.38874991,  2.34070752,  2.2687064 ,  2.17403322,\n",
       "        2.05837981,  1.92381293,  1.77273731,  1.60785271,  1.43210565,\n",
       "        1.24863676,  1.06072469,  0.87172745,  0.68502247,  0.5039462 ,\n",
       "        0.33173453,  0.1714649 ,  0.02600138, -0.10205658, -0.21042056,\n",
       "       -0.29715405, -0.36070712, -0.39994406, -0.4141637 , -0.40311193,\n",
       "       -0.36698625, -0.30643222, -0.22253197, -0.11678481,  0.00891953,\n",
       "        0.1523347 ,  0.31089783,  0.48177537,  0.66191369,  0.84809368,\n",
       "        1.03698828,  1.22522188,  1.40943072,  1.58632295,  1.75273746,\n",
       "        1.90570039,  2.04247826,  2.16062681,  2.25803471,  2.33296127,\n",
       "        2.38406751,  2.41044017,  2.41160796,  2.38755001,  2.33869625,\n",
       "        2.26591969,  2.17052087,  2.0542046 ,  1.91904946,  1.7674707 ,\n",
       "        1.60217708,  1.42612243,  1.24245288,  1.05445064,  0.86547535,\n",
       "        0.67890405,  0.49807081,  0.32620714,  0.16638431,  0.02145836,\n",
       "       -0.10598084, -0.21365592, -0.2996427 , -0.36240459, -0.40082002,\n",
       "       -0.41420249, -0.40231286, -0.36536359, -0.30401498, -0.21936334,\n",
       "       -0.11292142,  0.01340865,  0.15736932,  0.31638799,  0.48762294,\n",
       "        0.66801419,  0.85433809,  1.04326501,  1.23141877,  1.41543702,\n",
       "        1.59203133,  1.75804591,  1.91051404,  2.04671109,  2.16420319,\n",
       "        2.26089073,  2.33504587,  2.38534346,  2.41088467,  2.41121305,\n",
       "        2.38632276,  2.33665858,  2.26310802,  2.16698545,  2.0500086 ,\n",
       "        1.91426787,  1.76218897,  1.59648959,  1.42013081,  1.23626421,\n",
       "        1.04817551,  0.85922591,  0.67279197,  0.4922053 ,  0.32069304,\n",
       "        0.16132014,  0.01693463, -0.10988329, -0.21686735, -0.30210573,\n",
       "       -0.36407521, -0.40166836, -0.4142134 , -0.40148614, -0.36371402,\n",
       "       -0.30157203, -0.21617067, -0.10903608,  0.01791722,  0.16242056,\n",
       "        0.32189162,  0.49348062,  0.67412124,  0.86058538,  1.04954089,\n",
       "        1.23761109,  1.42143513,  1.59772803,  1.76333941,  1.91530974,\n",
       "        2.05092329,  2.16775662,  2.26372188,  2.33710416,  2.3865921 ,\n",
       "        2.41130134,  2.41079032,  2.38506818,  2.33459456,  2.26027145,\n",
       "        2.16342702,  2.0457919 ,  1.90946825,  1.75689221,  1.59079034,\n",
       "        1.41413091,  1.23007088,  1.04189944,  0.85297924,  0.66668633,\n",
       "        0.48634981,  0.31519233,  0.15627251,  0.01243029, -0.11376385,\n",
       "       -0.2200548 , -0.30454309, -0.36571893, -0.40248907, -0.41419642,\n",
       "       -0.40063179, -0.36203756, -0.29910342, -0.21295403, -0.10512888,\n",
       "        0.02244515,  0.16748831,  0.32740862,  0.49934829,  0.68023471,\n",
       "        0.86683541,  1.05581579,  1.24379873,  1.42742493,  1.60341295,\n",
       "        1.76861786,  1.9200874 ,  2.05511478,  2.17128703,  2.26652813,\n",
       "        2.33913609,  2.38781341,  2.4116902 ,  2.41033978,  2.38378629,\n",
       "        2.33250423,  2.25741004,  2.15984566,  2.04155458,  1.9046507 ,\n",
       "        1.75158052,  1.58507943,  1.40812285,  1.22387302,  1.03562253,\n",
       "        0.84673547,  0.66058727,  0.48050445,  0.30970512,  0.15124152,\n",
       "        0.00794541, -0.11762246, -0.22321819, -0.30695474, -0.36733572,\n",
       "       -0.40328212, -0.41415157, -0.39974982, -0.36033425, -0.2966092 ,\n",
       "       -0.20971347, -0.1011999 ,  0.02699236,  0.17257246,  0.33293888,\n",
       "        0.50522583,  0.68635449,  0.87308807,  1.06208959,  1.24998156,\n",
       "        1.4334063 ,  1.60908598,  1.77388116,  1.92484692,  2.05928546,\n",
       "        2.17479434,  2.2693094 ,  2.34114162,  2.38900735,  2.41205122])), Scatter(colors=['Red'], interactions={'hover': 'tooltip'}, scales={'x': LinearScale(max=5.0, min=-5.0), 'y': LinearScale(max=5.0, min=-5.0)}, scales_metadata={'x': {'orientation': 'horizontal', 'dimension': 'x'}, 'y': {'orientation': 'vertical', 'dimension': 'y'}, 'color': {'dimension': 'color'}, 'size': {'dimension': 'size'}, 'opacity': {'dimension': 'opacity'}, 'rotation': {'dimension': 'rotation'}, 'skew': {'dimension': 'skew'}}, tooltip_style={'opacity': 0.9}, x=array([0.]), y=array([0.])), Lines(colors=['Red'], interactions={'hover': 'tooltip'}, scales={'x': LinearScale(max=5.0, min=-5.0), 'y': LinearScale(max=5.0, min=-5.0)}, scales_metadata={'x': {'orientation': 'horizontal', 'dimension': 'x'}, 'y': {'orientation': 'vertical', 'dimension': 'y'}, 'color': {'dimension': 'color'}}, tooltip_style={'opacity': 0.9}, x=array([0., 0.]), y=array([0., 1.])), Scatter(colors=['Red'], interactions={'hover': 'tooltip'}, marker='triangle-up', rotation=array([0]), scales={'x': LinearScale(max=5.0, min=-5.0), 'y': LinearScale(max=5.0, min=-5.0), 'rotation': LinearScale(max=180.0, min=0.0)}, scales_metadata={'x': {'orientation': 'horizontal', 'dimension': 'x'}, 'y': {'orientation': 'vertical', 'dimension': 'y'}, 'color': {'dimension': 'color'}, 'size': {'dimension': 'size'}, 'opacity': {'dimension': 'opacity'}, 'rotation': {'dimension': 'rotation'}, 'skew': {'dimension': 'skew'}}, tooltip_style={'opacity': 0.9}, x=array([0.]), y=array([1.])), Lines(colors=['DarkGreen'], interactions={'hover': 'tooltip'}, scales={'x': LinearScale(max=5.0, min=-5.0), 'y': LinearScale(max=5.0, min=-5.0)}, scales_metadata={'x': {'orientation': 'horizontal', 'dimension': 'x'}, 'y': {'orientation': 'vertical', 'dimension': 'y'}, 'color': {'dimension': 'color'}}, tooltip_style={'opacity': 0.9}, x=array([0., 1.]), y=array([0., 1.])), Scatter(colors=['DarkGreen'], interactions={'hover': 'tooltip'}, marker='triangle-up', rotation=array([45.]), scales={'x': LinearScale(max=5.0, min=-5.0), 'y': LinearScale(max=5.0, min=-5.0), 'rotation': LinearScale(max=180.0, min=0.0)}, scales_metadata={'x': {'orientation': 'horizontal', 'dimension': 'x'}, 'y': {'orientation': 'vertical', 'dimension': 'y'}, 'color': {'dimension': 'color'}, 'size': {'dimension': 'size'}, 'opacity': {'dimension': 'opacity'}, 'rotation': {'dimension': 'rotation'}, 'skew': {'dimension': 'skew'}}, tooltip_style={'opacity': 0.9}, x=array([1.]), y=array([1.])), Lines(colors=['Cyan'], interactions={'hover': 'tooltip'}, scales={'x': LinearScale(max=5.0, min=-5.0), 'y': LinearScale(max=5.0, min=-5.0)}, scales_metadata={'x': {'orientation': 'horizontal', 'dimension': 'x'}, 'y': {'orientation': 'vertical', 'dimension': 'y'}, 'color': {'dimension': 'color'}}, tooltip_style={'opacity': 0.9}, x=array([0, 0]), y=array([0, 1])), Scatter(colors=['Cyan'], interactions={'hover': 'tooltip'}, marker='triangle-up', rotation=array([0]), scales={'x': LinearScale(max=5.0, min=-5.0), 'y': LinearScale(max=5.0, min=-5.0), 'rotation': LinearScale(max=180.0, min=0.0)}, scales_metadata={'x': {'orientation': 'horizontal', 'dimension': 'x'}, 'y': {'orientation': 'vertical', 'dimension': 'y'}, 'color': {'dimension': 'color'}, 'size': {'dimension': 'size'}, 'opacity': {'dimension': 'opacity'}, 'rotation': {'dimension': 'rotation'}, 'skew': {'dimension': 'skew'}}, tooltip_style={'opacity': 0.9}, x=array([0]), y=array([1])), Scatter(colors=['Cyan'], enable_move=True, interactions={'hover': 'tooltip'}, opacity=array([0.]), rotation=array([0]), scales={'x': LinearScale(max=5.0, min=-5.0), 'y': LinearScale(max=5.0, min=-5.0), 'opacity': LinearScale(max=1.0, min=0.0), 'size': LinearScale(max=1.0, min=0.0)}, scales_metadata={'x': {'orientation': 'horizontal', 'dimension': 'x'}, 'y': {'orientation': 'vertical', 'dimension': 'y'}, 'color': {'dimension': 'color'}, 'size': {'dimension': 'size'}, 'opacity': {'dimension': 'opacity'}, 'rotation': {'dimension': 'rotation'}, 'skew': {'dimension': 'skew'}}, size=array([0.1]), tooltip_style={'opacity': 0.9}, x=array([0]), y=array([1])), Label(colors=['Cyan'], interactions={'hover': 'tooltip'}, scales={'x': LinearScale(max=5.0, min=-5.0), 'y': LinearScale(max=5.0, min=-5.0)}, scales_metadata={'x': {'orientation': 'horizontal', 'dimension': 'x'}, 'y': {'orientation': 'vertical', 'dimension': 'y'}, 'color': {'dimension': 'color'}, 'size': {'dimension': 'size'}, 'opacity': {'dimension': 'opacity'}, 'rotation': {'dimension': 'rotation'}}, text=array(['kezdő sebesség'], dtype='<U14'), tooltip_style={'opacity': 0.9}, x=array([-4.5]), y=array([-4])), Label(colors=['Red'], interactions={'hover': 'tooltip'}, scales={'x': LinearScale(max=5.0, min=-5.0), 'y': LinearScale(max=5.0, min=-5.0)}, scales_metadata={'x': {'orientation': 'horizontal', 'dimension': 'x'}, 'y': {'orientation': 'vertical', 'dimension': 'y'}, 'color': {'dimension': 'color'}, 'size': {'dimension': 'size'}, 'opacity': {'dimension': 'opacity'}, 'rotation': {'dimension': 'rotation'}}, text=array(['sebesség'], dtype='<U8'), tooltip_style={'opacity': 0.9}, x=array([-4.5]), y=array([-4.3])), Label(colors=['DarkGreen'], interactions={'hover': 'tooltip'}, scales={'x': LinearScale(max=5.0, min=-5.0), 'y': LinearScale(max=5.0, min=-5.0)}, scales_metadata={'x': {'orientation': 'horizontal', 'dimension': 'x'}, 'y': {'orientation': 'vertical', 'dimension': 'y'}, 'color': {'dimension': 'color'}, 'size': {'dimension': 'size'}, 'opacity': {'dimension': 'opacity'}, 'rotation': {'dimension': 'rotation'}}, text=array(['gyorsulás'], dtype='<U9'), tooltip_style={'opacity': 0.9}, x=array([-4.5]), y=array([-4.6]))], scale_x=LinearScale(allow_padding=False, max=1.0, min=0.0), scale_y=LinearScale(allow_padding=False, max=1.0, min=0.0)), VBox(children=(Figure(fig_margin={'top': 60, 'bottom': 60, 'left': 60, 'right': 60}, layout=Layout(height='400px', width='400px'), marks=[Scatter(colors=['DarkCyan'], interactions={'hover': 'tooltip'}, marker='triangle-up', rotation=array([0]), scales={'x': LinearScale(max=1.0, min=-1.0), 'y': LinearScale(max=1.0, min=-1.0), 'rotation': LinearScale(max=180.0, min=0.0)}, scales_metadata={'x': {'orientation': 'horizontal', 'dimension': 'x'}, 'y': {'orientation': 'vertical', 'dimension': 'y'}, 'color': {'dimension': 'color'}, 'size': {'dimension': 'size'}, 'opacity': {'dimension': 'opacity'}, 'rotation': {'dimension': 'rotation'}, 'skew': {'dimension': 'skew'}}, tooltip_style={'opacity': 0.9}, x=array([0]), y=array([1])), Lines(colors=['DarkCyan'], interactions={'hover': 'tooltip'}, scales={'x': LinearScale(max=1.0, min=-1.0), 'y': LinearScale(max=1.0, min=-1.0)}, scales_metadata={'x': {'orientation': 'horizontal', 'dimension': 'x'}, 'y': {'orientation': 'vertical', 'dimension': 'y'}, 'color': {'dimension': 'color'}}, tooltip_style={'opacity': 0.9}, x=array([0, 0]), y=array([0, 1])), Scatter(colors=['DarkCyan'], enable_move=True, interactions={'hover': 'tooltip'}, opacity=array([0.]), scales={'x': LinearScale(max=1.0, min=-1.0), 'y': LinearScale(max=1.0, min=-1.0), 'opacity': LinearScale(max=1.0, min=0.0), 'size': LinearScale(max=1.0, min=0.0)}, scales_metadata={'x': {'orientation': 'horizontal', 'dimension': 'x'}, 'y': {'orientation': 'vertical', 'dimension': 'y'}, 'color': {'dimension': 'color'}, 'size': {'dimension': 'size'}, 'opacity': {'dimension': 'opacity'}, 'rotation': {'dimension': 'rotation'}, 'skew': {'dimension': 'skew'}}, size=array([0.1]), tooltip_style={'opacity': 0.9}, x=array([0]), y=array([1])), Label(colors=['DarkCyan'], interactions={'hover': 'tooltip'}, scales={'x': LinearScale(max=1.0, min=-1.0), 'y': LinearScale(max=1.0, min=-1.0)}, scales_metadata={'x': {'orientation': 'horizontal', 'dimension': 'x'}, 'y': {'orientation': 'vertical', 'dimension': 'y'}, 'color': {'dimension': 'color'}, 'size': {'dimension': 'size'}, 'opacity': {'dimension': 'opacity'}, 'rotation': {'dimension': 'rotation'}}, text=array(['E tér iránya és nagysága'], dtype='<U24'), tooltip_style={'opacity': 0.9}, x=array([-0.8]), y=array([-0.8]))], scale_x=LinearScale(allow_padding=False, max=1.0, min=0.0), scale_y=LinearScale(allow_padding=False, max=1.0, min=0.0)), FloatSlider(value=1.0, description='B tér', max=2.0, min=-2.0, step=0.012), IntSlider(value=0, description='t', max=299, readout=False), HBox(children=(ToggleButton(value=True, button_style='info', description='E tér'), ToggleButton(value=True, button_style='info', description='kezdő sebesség', layout=Layout(width='50%'))))))))"
      ]
     },
     "metadata": {},
     "output_type": "display_data"
    }
   ],
   "source": [
    "ipw.HBox([orb_fig,ipw.VBox([Eter,Brule,trule,extra_buttons])])\n"
   ]
  },
  {
   "cell_type": "code",
   "execution_count": null,
   "metadata": {
    "extensions": {
     "jupyter_dashboards": {
      "version": 1,
      "views": {
       "grid_default": {
        "hidden": true
       },
       "report_default": {}
      }
     }
    }
   },
   "outputs": [],
   "source": []
  }
 ],
 "metadata": {
  "extensions": {
   "jupyter_dashboards": {
    "activeView": "grid_default",
    "version": 1,
    "views": {
     "grid_default": {
      "cellMargin": 10,
      "defaultCellHeight": 20,
      "maxColumns": 12,
      "name": "grid",
      "type": "grid"
     },
     "report_default": {
      "name": "report",
      "type": "report"
     }
    }
   }
  },
  "kernelspec": {
   "display_name": "Python 3",
   "language": "python",
   "name": "python3"
  },
  "language_info": {
   "codemirror_mode": {
    "name": "ipython",
    "version": 3
   },
   "file_extension": ".py",
   "mimetype": "text/x-python",
   "name": "python",
   "nbconvert_exporter": "python",
   "pygments_lexer": "ipython3",
   "version": "3.6.6"
  },
  "latex_envs": {
   "LaTeX_envs_menu_present": true,
   "autoclose": false,
   "autocomplete": true,
   "bibliofile": "biblio.bib",
   "cite_by": "apalike",
   "current_citInitial": 1,
   "eqLabelWithNumbers": false,
   "eqNumInitial": 1,
   "hotkeys": {
    "equation": "Ctrl-E",
    "itemize": "Ctrl-I"
   },
   "labels_anchors": false,
   "latex_user_defs": false,
   "report_style_numbering": false,
   "user_envs_cfg": false
  },
  "varInspector": {
   "cols": {
    "lenName": 16,
    "lenType": 16,
    "lenVar": 40
   },
   "kernels_config": {
    "python": {
     "delete_cmd_postfix": "",
     "delete_cmd_prefix": "del ",
     "library": "var_list.py",
     "varRefreshCmd": "print(var_dic_list())"
    },
    "r": {
     "delete_cmd_postfix": ") ",
     "delete_cmd_prefix": "rm(",
     "library": "var_list.r",
     "varRefreshCmd": "cat(var_dic_list()) "
    }
   },
   "types_to_exclude": [
    "module",
    "function",
    "builtin_function_or_method",
    "instance",
    "_Feature"
   ],
   "window_display": false
  }
 },
 "nbformat": 4,
 "nbformat_minor": 2
}
