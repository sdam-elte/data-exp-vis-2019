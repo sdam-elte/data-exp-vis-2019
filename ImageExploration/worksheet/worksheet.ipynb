{
 "cells": [
  {
   "cell_type": "markdown",
   "metadata": {},
   "source": [
    "# Image processing\n",
    "\n",
    "## Excercise 1: Image segmentation\n",
    "\n",
    "Load an RGB image from the file `candy.jpg`. Count the number of objects of different colors."
   ]
  },
  {
   "cell_type": "code",
   "execution_count": null,
   "metadata": {},
   "outputs": [],
   "source": []
  },
  {
   "cell_type": "markdown",
   "metadata": {},
   "source": [
    "## Excercise 2: Image correction\n",
    "\n",
    "Load an RGB image from `mountain.jpg` and try to transform the histogram until the image looks good to you."
   ]
  },
  {
   "cell_type": "code",
   "execution_count": null,
   "metadata": {},
   "outputs": [],
   "source": []
  },
  {
   "cell_type": "markdown",
   "metadata": {},
   "source": [
    "## Excercise 3: Sudoku\n",
    "\n",
    "Load an RGB image from `sudoku.jpg` or `/home/course/ImageExploration/Sudoku/` and convert it to grayscale. Try to find the border of the sudoku table and correct the perspective (and maybe the camera lens distortion) until the table looks as rectangular as possible. Find the squares containing numbers. How would you recognize the numbers from python?"
   ]
  },
  {
   "cell_type": "code",
   "execution_count": null,
   "metadata": {},
   "outputs": [],
   "source": []
  },
  {
   "cell_type": "markdown",
   "metadata": {},
   "source": [
    "## Excercise 4: Count the ratio of yellow and black Airsoft BBs\n",
    "\n",
    "<img src=\"AirsoftBB.png\">\n",
    "\n",
    "There are several images of a mixture of Airsoft BBs in `/home/course/ImageExploration/SmallBalls/`. These images are from a granular segregation experiment, where the balls have different surface roughness according to their color and therefore the friction varies as well while the content of the bowl was stirred. \n",
    "\n",
    "Try to distinguish between the two kind of balls and find out their ratio in each image! \n"
   ]
  },
  {
   "cell_type": "code",
   "execution_count": null,
   "metadata": {},
   "outputs": [],
   "source": []
  }
 ],
 "metadata": {
  "kernelspec": {
   "display_name": "Python 3",
   "language": "python",
   "name": "python3"
  },
  "language_info": {
   "codemirror_mode": {
    "name": "ipython",
    "version": 3
   },
   "file_extension": ".py",
   "mimetype": "text/x-python",
   "name": "python",
   "nbconvert_exporter": "python",
   "pygments_lexer": "ipython3",
   "version": "3.6.6"
  }
 },
 "nbformat": 4,
 "nbformat_minor": 2
}
