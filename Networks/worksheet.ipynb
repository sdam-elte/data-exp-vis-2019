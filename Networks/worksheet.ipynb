{
 "cells": [
  {
   "cell_type": "markdown",
   "metadata": {},
   "source": [
    "## Networks\n",
    "\n",
    "Further materials are in `/home/course/networks`"
   ]
  },
  {
   "cell_type": "markdown",
   "metadata": {},
   "source": [
    "1. Create a random network (with N>10.000 nodes) using the Barabasi-Albert model, and create a meaningful plot of the degree distribution!\n",
    "Once the network is ready, gradually swap edges between nodes and track the change of the network topology by looking at the changes in the degree distribution!"
   ]
  },
  {
   "cell_type": "markdown",
   "metadata": {},
   "source": [
    "2. Construct a network from referencing webpages! E.g. choose webpage of the Dept. of Complex Systems as the first node of the network and create new nodes and links from the \"href\" references! Make a visualisation of the growing network as the diameter of the network increases! (Diameter of a graph is the maximal distance between the nodes of the network. The distance between two nodes is measured by the number of steps along the shortest path connecting the node pair."
   ]
  },
  {
   "cell_type": "markdown",
   "metadata": {},
   "source": [
    "3. During reconnecting (swapping) links between nodes, usually we need a constant quantity, which does not change during the swapping of links. E.g. one can fix the degree distribution by setting a constraint at each node, how many incoming/outgoing connection it must have. Create small networks (N<50 nodes), which are randomized with swapping the links constraining the degrees of each node. By creating a visual representation of the network track the changes of swapping of the links! Show some examples, where this type of randomization does not change the topology of the network at all."
   ]
  },
  {
   "cell_type": "code",
   "execution_count": null,
   "metadata": {},
   "outputs": [],
   "source": []
  }
 ],
 "metadata": {
  "kernelspec": {
   "display_name": "Python 3",
   "language": "python",
   "name": "python3"
  },
  "language_info": {
   "codemirror_mode": {
    "name": "ipython",
    "version": 3
   },
   "file_extension": ".py",
   "mimetype": "text/x-python",
   "name": "python",
   "nbconvert_exporter": "python",
   "pygments_lexer": "ipython3",
   "version": "3.6.7"
  }
 },
 "nbformat": 4,
 "nbformat_minor": 2
}
